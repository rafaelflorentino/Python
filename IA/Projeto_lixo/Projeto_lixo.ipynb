{
 "cells": [
  {
   "cell_type": "code",
   "execution_count": null,
   "metadata": {},
   "outputs": [],
   "source": [
    "! pip install pandas"
   ]
  },
  {
   "cell_type": "code",
   "execution_count": 2,
   "metadata": {},
   "outputs": [],
   "source": [
    "import pandas as pd"
   ]
  },
  {
   "cell_type": "code",
   "execution_count": 3,
   "metadata": {},
   "outputs": [],
   "source": [
    "df = pd.read_csv('../datasets/dataset_lixo.csv')"
   ]
  },
  {
   "cell_type": "code",
   "execution_count": 4,
   "metadata": {},
   "outputs": [
    {
     "data": {
      "text/html": [
       "<div>\n",
       "<style scoped>\n",
       "    .dataframe tbody tr th:only-of-type {\n",
       "        vertical-align: middle;\n",
       "    }\n",
       "\n",
       "    .dataframe tbody tr th {\n",
       "        vertical-align: top;\n",
       "    }\n",
       "\n",
       "    .dataframe thead th {\n",
       "        text-align: right;\n",
       "    }\n",
       "</style>\n",
       "<table border=\"1\" class=\"dataframe\">\n",
       "  <thead>\n",
       "    <tr style=\"text-align: right;\">\n",
       "      <th></th>\n",
       "      <th>País</th>\n",
       "      <th>Ano</th>\n",
       "      <th>PIB (US$)</th>\n",
       "      <th>População</th>\n",
       "      <th>Lixo Orgânico (Ton)</th>\n",
       "      <th>Lixo Papel (Ton)</th>\n",
       "      <th>Lixo Metal (Ton)</th>\n",
       "      <th>Lixo Plástico (Ton)</th>\n",
       "      <th>Lixo Vidro (Ton)</th>\n",
       "      <th>Lixo Madeira (Ton)</th>\n",
       "      <th>Lixo Borracha (Ton)</th>\n",
       "      <th>Lixo Entulho (Ton)</th>\n",
       "      <th>Lixo Médico (Ton)</th>\n",
       "      <th>Outros Lixos (Ton)</th>\n",
       "      <th>Total Lixo (Ton)</th>\n",
       "      <th>Lixo Reciclado (Ton)</th>\n",
       "    </tr>\n",
       "  </thead>\n",
       "  <tbody>\n",
       "    <tr>\n",
       "      <th>0</th>\n",
       "      <td>Brasil</td>\n",
       "      <td>2014</td>\n",
       "      <td>2416000000000</td>\n",
       "      <td>202600000</td>\n",
       "      <td>18100000</td>\n",
       "      <td>7400000</td>\n",
       "      <td>2900000</td>\n",
       "      <td>4400000</td>\n",
       "      <td>1650000</td>\n",
       "      <td>800000</td>\n",
       "      <td>300000</td>\n",
       "      <td>2500000</td>\n",
       "      <td>400000</td>\n",
       "      <td>100000</td>\n",
       "      <td>79700000</td>\n",
       "      <td>32000000</td>\n",
       "    </tr>\n",
       "    <tr>\n",
       "      <th>1</th>\n",
       "      <td>Brasil</td>\n",
       "      <td>2015</td>\n",
       "      <td>2418000000000</td>\n",
       "      <td>204500000</td>\n",
       "      <td>18500000</td>\n",
       "      <td>7600000</td>\n",
       "      <td>2950000</td>\n",
       "      <td>4500000</td>\n",
       "      <td>1700000</td>\n",
       "      <td>850000</td>\n",
       "      <td>320000</td>\n",
       "      <td>2600000</td>\n",
       "      <td>450000</td>\n",
       "      <td>110000</td>\n",
       "      <td>81300000</td>\n",
       "      <td>33000000</td>\n",
       "    </tr>\n",
       "    <tr>\n",
       "      <th>2</th>\n",
       "      <td>Brasil</td>\n",
       "      <td>2016</td>\n",
       "      <td>2384000000000</td>\n",
       "      <td>206100000</td>\n",
       "      <td>19000000</td>\n",
       "      <td>7800000</td>\n",
       "      <td>3000000</td>\n",
       "      <td>4600000</td>\n",
       "      <td>1750000</td>\n",
       "      <td>900000</td>\n",
       "      <td>350000</td>\n",
       "      <td>2700000</td>\n",
       "      <td>500000</td>\n",
       "      <td>120000</td>\n",
       "      <td>83000000</td>\n",
       "      <td>34000000</td>\n",
       "    </tr>\n",
       "    <tr>\n",
       "      <th>3</th>\n",
       "      <td>Brasil</td>\n",
       "      <td>2017</td>\n",
       "      <td>2056000000000</td>\n",
       "      <td>207660000</td>\n",
       "      <td>20000000</td>\n",
       "      <td>8000000</td>\n",
       "      <td>3100000</td>\n",
       "      <td>4800000</td>\n",
       "      <td>1800000</td>\n",
       "      <td>950000</td>\n",
       "      <td>370000</td>\n",
       "      <td>2800000</td>\n",
       "      <td>550000</td>\n",
       "      <td>130000</td>\n",
       "      <td>85000000</td>\n",
       "      <td>35000000</td>\n",
       "    </tr>\n",
       "    <tr>\n",
       "      <th>4</th>\n",
       "      <td>Brasil</td>\n",
       "      <td>2018</td>\n",
       "      <td>2064000000000</td>\n",
       "      <td>209300000</td>\n",
       "      <td>21000000</td>\n",
       "      <td>8200000</td>\n",
       "      <td>3200000</td>\n",
       "      <td>4900000</td>\n",
       "      <td>1850000</td>\n",
       "      <td>1000000</td>\n",
       "      <td>400000</td>\n",
       "      <td>2900000</td>\n",
       "      <td>600000</td>\n",
       "      <td>140000</td>\n",
       "      <td>87000000</td>\n",
       "      <td>36000000</td>\n",
       "    </tr>\n",
       "  </tbody>\n",
       "</table>\n",
       "</div>"
      ],
      "text/plain": [
       "     País   Ano      PIB (US$)  População  Lixo Orgânico (Ton)  \\\n",
       "0  Brasil  2014  2416000000000  202600000             18100000   \n",
       "1  Brasil  2015  2418000000000  204500000             18500000   \n",
       "2  Brasil  2016  2384000000000  206100000             19000000   \n",
       "3  Brasil  2017  2056000000000  207660000             20000000   \n",
       "4  Brasil  2018  2064000000000  209300000             21000000   \n",
       "\n",
       "   Lixo Papel (Ton)  Lixo Metal (Ton)  Lixo Plástico (Ton)  Lixo Vidro (Ton)  \\\n",
       "0           7400000           2900000              4400000           1650000   \n",
       "1           7600000           2950000              4500000           1700000   \n",
       "2           7800000           3000000              4600000           1750000   \n",
       "3           8000000           3100000              4800000           1800000   \n",
       "4           8200000           3200000              4900000           1850000   \n",
       "\n",
       "   Lixo Madeira (Ton)  Lixo Borracha (Ton)  Lixo Entulho (Ton)  \\\n",
       "0              800000               300000             2500000   \n",
       "1              850000               320000             2600000   \n",
       "2              900000               350000             2700000   \n",
       "3              950000               370000             2800000   \n",
       "4             1000000               400000             2900000   \n",
       "\n",
       "   Lixo Médico (Ton)  Outros Lixos (Ton)  Total Lixo (Ton)  \\\n",
       "0             400000              100000          79700000   \n",
       "1             450000              110000          81300000   \n",
       "2             500000              120000          83000000   \n",
       "3             550000              130000          85000000   \n",
       "4             600000              140000          87000000   \n",
       "\n",
       "   Lixo Reciclado (Ton)  \n",
       "0              32000000  \n",
       "1              33000000  \n",
       "2              34000000  \n",
       "3              35000000  \n",
       "4              36000000  "
      ]
     },
     "execution_count": 4,
     "metadata": {},
     "output_type": "execute_result"
    }
   ],
   "source": [
    "df.head()"
   ]
  },
  {
   "cell_type": "code",
   "execution_count": null,
   "metadata": {},
   "outputs": [],
   "source": [
    "df.info()\n",
    "df.describe()"
   ]
  },
  {
   "cell_type": "code",
   "execution_count": 11,
   "metadata": {},
   "outputs": [
    {
     "data": {
      "text/plain": [
       "Index(['País', 'Ano', 'PIB (US$)', 'População', 'Total Lixo (Ton)'], dtype='object')"
      ]
     },
     "execution_count": 11,
     "metadata": {},
     "output_type": "execute_result"
    }
   ],
   "source": [
    "df.columns"
   ]
  },
  {
   "cell_type": "code",
   "execution_count": null,
   "metadata": {},
   "outputs": [],
   "source": [
    "! pip install scikit-learn"
   ]
  },
  {
   "cell_type": "markdown",
   "metadata": {},
   "source": [
    "## Prever quantas toneladas de lixo o Brasil vai produzir em 2025"
   ]
  },
  {
   "cell_type": "code",
   "execution_count": 19,
   "metadata": {},
   "outputs": [
    {
     "name": "stdout",
     "output_type": "stream",
     "text": [
      "Previsão para 2025: 101106059.11460876\n"
     ]
    }
   ],
   "source": [
    "from sklearn.linear_model import LinearRegression\n",
    "import pandas as pd\n",
    "\n",
    "# Filtrar apenas os dados do Brasil\n",
    "df_brasil = df[df[\"País\"] == \"Brasil\"]\n",
    "\n",
    "# Selecionar as variáveis independentes e a variável dependente\n",
    "X = df_brasil[['Ano', 'PIB (US$)', 'População']]  # Incluindo todas as variáveis como uma lista\n",
    "y = df_brasil['Total Lixo (Ton)']\n",
    "\n",
    "# Criar e treinar o modelo de regressão linear\n",
    "model = LinearRegression()\n",
    "model.fit(X, y)\n",
    "\n",
    "# Dados de entrada para 2025\n",
    "X_new = pd.DataFrame({\n",
    "    'Ano': [2025],\n",
    "    'PIB (US$)': [2800000000000],\n",
    "    'População': [217000000]\n",
    "})\n",
    "\n",
    "# Fazer a previsão\n",
    "y_pred = model.predict(X_new)\n",
    "print(\"Previsão para 2025:\", y_pred[0])"
   ]
  },
  {
   "cell_type": "code",
   "execution_count": null,
   "metadata": {},
   "outputs": [],
   "source": [
    "# Supondo que os coeficientes sejam:\n",
    "# Coeficiente do ano: 1000\n",
    "# Coeficiente do PIB: 0.000001\n",
    "# Coeficiente da população: 5\n",
    "\n",
    "# A equação da regressão seria:\n",
    "# Total Lixo = 1000 * Ano + 0.000001 * PIB + 5 * População + b0\n",
    "\n",
    "# Interpretação:\n",
    "# - A cada ano que passa, a produção de lixo aumenta em 1000 toneladas (mantendo PIB e população constantes).\n",
    "# - Um aumento de 1 dólar no PIB está associado a um aumento de 0.000001 toneladas na produção de lixo (mantendo ano e população constantes).\n",
    "# - Um aumento de 1 pessoa na população está associado a um aumento de 5 toneladas na produção de lixo (mantendo ano e PIB constantes)."
   ]
  }
 ],
 "metadata": {
  "kernelspec": {
   "display_name": ".venv",
   "language": "python",
   "name": "python3"
  },
  "language_info": {
   "codemirror_mode": {
    "name": "ipython",
    "version": 3
   },
   "file_extension": ".py",
   "mimetype": "text/x-python",
   "name": "python",
   "nbconvert_exporter": "python",
   "pygments_lexer": "ipython3",
   "version": "3.12.7"
  }
 },
 "nbformat": 4,
 "nbformat_minor": 2
}
