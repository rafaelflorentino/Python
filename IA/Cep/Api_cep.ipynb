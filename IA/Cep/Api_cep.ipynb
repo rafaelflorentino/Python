{
 "cells": [
  {
   "cell_type": "markdown",
   "metadata": {},
   "source": [
    "# Consumindo API, onde você passa o cep e ela retorna o endereço"
   ]
  },
  {
   "cell_type": "code",
   "execution_count": null,
   "metadata": {},
   "outputs": [],
   "source": [
    "! pip install requests"
   ]
  },
  {
   "cell_type": "code",
   "execution_count": 2,
   "metadata": {},
   "outputs": [
    {
     "name": "stdout",
     "output_type": "stream",
     "text": [
      "{'cep': '72231-216', 'logradouro': 'Quadra QNP 12 Conjunto P', 'complemento': '', 'unidade': '', 'bairro': 'Ceilândia Sul (Ceilândia)', 'localidade': 'Brasília', 'uf': 'DF', 'estado': 'Distrito Federal', 'regiao': 'Centro-Oeste', 'ibge': '5300108', 'gia': '', 'ddd': '61', 'siafi': '9701'} \n",
      "\n",
      "cep: 72231-216\n",
      "logradouro: Quadra QNP 12 Conjunto P\n",
      "complemento: \n",
      "unidade: \n",
      "bairro: Ceilândia Sul (Ceilândia)\n",
      "localidade: Brasília\n",
      "uf: DF\n",
      "estado: Distrito Federal\n",
      "regiao: Centro-Oeste\n",
      "ibge: 5300108\n",
      "gia: \n",
      "ddd: 61\n",
      "siafi: 9701\n"
     ]
    }
   ],
   "source": [
    "import requests\n",
    "\n",
    "# URL da API com o CEP desejado\n",
    "url = 'https://viacep.com.br/ws/72231216/json/'\n",
    "\n",
    "# Fazendo a requisição GET à API\n",
    "response = requests.get(url)\n",
    "\n",
    "# Verifica se a requisição foi bem-sucedida\n",
    "if response.status_code == 200:\n",
    "    # Converte a resposta JSON para um dicionário Python\n",
    "    data = response.json()\n",
    "    \n",
    "    # Imprime os dados recebidos\n",
    "    print(data,\"\\n\")\n",
    "    \n",
    "    for key, value in data.items():\n",
    "        print(f'{key}: {value}')\n",
    "else:\n",
    "    # Caso a requisição tenha falhado, imprime o código de status\n",
    "    print(f'Falha na requisição: {response.status_code}')"
   ]
  }
 ],
 "metadata": {
  "kernelspec": {
   "display_name": ".venv",
   "language": "python",
   "name": "python3"
  },
  "language_info": {
   "codemirror_mode": {
    "name": "ipython",
    "version": 3
   },
   "file_extension": ".py",
   "mimetype": "text/x-python",
   "name": "python",
   "nbconvert_exporter": "python",
   "pygments_lexer": "ipython3",
   "version": "3.12.7"
  }
 },
 "nbformat": 4,
 "nbformat_minor": 2
}
