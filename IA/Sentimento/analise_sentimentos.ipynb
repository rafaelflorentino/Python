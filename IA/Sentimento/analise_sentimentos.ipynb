{
 "cells": [
  {
   "cell_type": "code",
   "execution_count": null,
   "metadata": {},
   "outputs": [],
   "source": [
    "! pip install pandas"
   ]
  },
  {
   "cell_type": "code",
   "execution_count": 2,
   "metadata": {},
   "outputs": [],
   "source": [
    "import pandas as pd"
   ]
  },
  {
   "cell_type": "code",
   "execution_count": null,
   "metadata": {},
   "outputs": [],
   "source": [
    "df_resenhas = pd.read_csv('/content/datasets/imdb-reviews-pt-br.csv', encoding='utf-8')\n",
    "df_resenhas.head()"
   ]
  },
  {
   "cell_type": "code",
   "execution_count": null,
   "metadata": {},
   "outputs": [],
   "source": [
    "df_resenhas.tail()"
   ]
  },
  {
   "cell_type": "markdown",
   "metadata": {},
   "source": [
    "## Treino e Teste\n",
    "- Separar ou segregar. 70 - treinar 30 - avaliar(esconde)\n",
    "\n",
    "- Overfitting ou Underfitting"
   ]
  },
  {
   "cell_type": "code",
   "execution_count": null,
   "metadata": {},
   "outputs": [],
   "source": [
    "# importação\n",
    "from sklearn.model_selection import train_test_split\n",
    "\n",
    "# definir variáveis de teino e de teste\n",
    "# random_state: passe um int para embaralhamento\n",
    "treino,teste,classe_treino,classe_teste = train_test_split(df_resenhas.text_pt,df_resenhas.sentiment,random_state=42)\n",
    "\n",
    "# Terino: possui os dados do treino (70%)\n",
    "# Teste: possui os dados de teste (30%)\n",
    "# classe_treino: rotulos (labels) de treino\n",
    "     "
   ]
  },
  {
   "cell_type": "code",
   "execution_count": null,
   "metadata": {},
   "outputs": [],
   "source": [
    "# verificar treino\n",
    "treino"
   ]
  },
  {
   "cell_type": "code",
   "execution_count": null,
   "metadata": {},
   "outputs": [],
   "source": [
    "df_resenhas.info()"
   ]
  },
  {
   "cell_type": "code",
   "execution_count": null,
   "metadata": {},
   "outputs": [],
   "source": [
    "# mostrando os rotulos (labels) de treino\n",
    "classe_treino"
   ]
  },
  {
   "cell_type": "code",
   "execution_count": null,
   "metadata": {},
   "outputs": [],
   "source": [
    "# train_test_split( ) - dividir treino e teste 75 e 25% Documentação 75/25 Sickt learning\n",
    "\n",
    "from sklearn.linear_model import LogistcRegression\n",
    "\n",
    "regressao_logistica = LogisticRegression()\n",
    "regressao_logistica.fit(treino, classe_treino)\n",
    "acuracia = regressao_logistica.score(teste, classe_teste)\n",
    "print(\"Acurácia:\", acuracia)"
   ]
  },
  {
   "cell_type": "code",
   "execution_count": null,
   "metadata": {},
   "outputs": [],
   "source": [
    "# crie uma nova coluna no dataset que tenha respectivamente 0 para neg e 1 para pos\n",
    "classificacao = df_resenhas[\"sentiment\"].replace([\"neg\",\"pos\"], [0,1])\n",
    "classificacao"
   ]
  },
  {
   "cell_type": "code",
   "execution_count": null,
   "metadata": {},
   "outputs": [],
   "source": [
    "df_resenhas.head(2)"
   ]
  },
  {
   "cell_type": "code",
   "execution_count": null,
   "metadata": {},
   "outputs": [],
   "source": [
    "df_resenhas['classificacao'] = classificacao\n",
    "df_resenhas"
   ]
  },
  {
   "cell_type": "markdown",
   "metadata": {},
   "source": [
    "# Bag of Words\n",
    "\n",
    "* Tem um pelo longo\n",
    "* Tem perna curta\n",
    "* Faz cocoricó"
   ]
  },
  {
   "cell_type": "code",
   "execution_count": null,
   "metadata": {},
   "outputs": [],
   "source": [
    "cachorro1 = [1,0,0]\n",
    "cachorro2 = [0,1,0]\n",
    "cachorro3 = [1,1,0]\n",
    "\n",
    "\n",
    "galinha1 =[0,1,1]\n",
    "galinha2 =[1,0,1]\n",
    "galinha3 =[1,1,1]\n",
    "\n",
    "treino_x = [cachorro1, cachorro2, cachorro3, galinha1, galinha2, galinha3]\n",
    "treino_y = [1,1,1,0,0,0]"
   ]
  },
  {
   "cell_type": "code",
   "execution_count": null,
   "metadata": {},
   "outputs": [],
   "source": [
    "from sklearn.svm import LinearSVC\n",
    "\n",
    "modelo = LinearSVC()\n",
    "modelo.fit(treino_x, treino_y)"
   ]
  },
  {
   "cell_type": "code",
   "execution_count": null,
   "metadata": {},
   "outputs": [],
   "source": [
    "# Animal misterioso\n",
    "\n",
    "\"\"\"\n",
    "  Tem um pelo longo\n",
    "  Tem perna curta\n",
    "  Faz cocoricó\n",
    "\"\"\"\n",
    "animal_misterioso = [1,1,1]\n",
    "modelo.predict([animal_misterioso])"
   ]
  },
  {
   "cell_type": "code",
   "execution_count": null,
   "metadata": {},
   "outputs": [],
   "source": [
    "\n",
    "# animal misterioso 2\n",
    "\n",
    "animal_misterioso2 = [1,1,0]\n",
    "modelo.predict([animal_misterioso2])"
   ]
  },
  {
   "cell_type": "code",
   "execution_count": null,
   "metadata": {},
   "outputs": [],
   "source": [
    "# Codar\n",
    "\n",
    "# Vetorizar o Corpus em Números\n",
    "\n",
    "from sklearn.feature_extraction.text import CountVectorizer\n",
    "\n",
    "# corpus\n",
    "\n",
    "texto = [\"O filme é muito bom\", \"o filme é muito ruim\"]\n",
    "\n",
    "# vetorização - pegar a frase e criar um vetor\n",
    "\n",
    "vetorizar = CountVectorizer(lowercase=False)\n",
    "\n",
    "# aplicar no nosso corpo (corpus)\n",
    "\n",
    "bag_of_words = vetorizar.fit_transform(texto)"
   ]
  },
  {
   "cell_type": "code",
   "execution_count": null,
   "metadata": {},
   "outputs": [],
   "source": [
    "\n",
    "# mostrando bag_of_words\n",
    "bag_of_words"
   ]
  },
  {
   "cell_type": "code",
   "execution_count": null,
   "metadata": {},
   "outputs": [],
   "source": [
    "\n",
    "# e as palavras do vocabulário?\n",
    "# Transformou para mínusculo?\n",
    "\n",
    "vetorizar.get_feature_names_out()"
   ]
  },
  {
   "cell_type": "code",
   "execution_count": null,
   "metadata": {},
   "outputs": [],
   "source": [
    "\n",
    "# Tabelinha Bag Of Words DataFrame\n",
    "\n",
    "matriz = pd.DataFrame(bag_of_words.toarray(), columns=vetorizar.get_feature_names_out())"
   ]
  },
  {
   "cell_type": "code",
   "execution_count": null,
   "metadata": {},
   "outputs": [],
   "source": [
    "# Matriz Esparsa\n",
    "\n",
    "matriz_esparsa = pd.DataFrame.sparse.from_spmatrix(bag_of_words, columns=vetorizar.get_feature_names_out())\n",
    "     "
   ]
  },
  {
   "cell_type": "code",
   "execution_count": null,
   "metadata": {},
   "outputs": [],
   "source": [
    "matriz_esparsa"
   ]
  },
  {
   "cell_type": "markdown",
   "metadata": {},
   "source": [
    "## Bag of Words- aplicando ao caso real (IMDB-PT-BR) - 50.000 mil"
   ]
  },
  {
   "cell_type": "code",
   "execution_count": null,
   "metadata": {},
   "outputs": [],
   "source": [
    "# prompt: Corpus - \"O filme é bom\", \"o filme é ruim\"\n",
    "\n",
    "import pandas as pd\n",
    "from sklearn.feature_extraction.text import CountVectorizer\n",
    "\n",
    "# Carregue o dataset IMDB-PT-BR\n",
    "imdb_df = pd.read_csv('datasets/imdb-reviews-pt-br.csv')\n",
    "\n",
    "# Obtenha apenas a coluna de texto (reviews)\n",
    "corpus = imdb_df['text_pt'].tolist()\n",
    "\n",
    "# Vetorize o corpus\n",
    "vectorizer = CountVectorizer(lowercase=False)\n",
    "bag_of_words = vectorizer.fit_transform(corpus)\n",
    "\n",
    "# Crie um DataFrame com a matriz esparsa\n",
    "matriz_esparsa = pd.DataFrame.sparse.from_spmatrix(bag_of_words, columns=vectorizer.get_feature_names_out())\n",
    "\n",
    "# Exiba a matriz esparsa (opcional)\n",
    "print(matriz_esparsa)"
   ]
  }
 ],
 "metadata": {
  "kernelspec": {
   "display_name": ".venv",
   "language": "python",
   "name": "python3"
  },
  "language_info": {
   "codemirror_mode": {
    "name": "ipython",
    "version": 3
   },
   "file_extension": ".py",
   "mimetype": "text/x-python",
   "name": "python",
   "nbconvert_exporter": "python",
   "pygments_lexer": "ipython3",
   "version": "3.12.7"
  }
 },
 "nbformat": 4,
 "nbformat_minor": 2
}
