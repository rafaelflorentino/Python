{
 "cells": [
  {
   "cell_type": "markdown",
   "metadata": {},
   "source": [
    "# Tratamento de dados"
   ]
  },
  {
   "cell_type": "code",
   "execution_count": 115,
   "metadata": {},
   "outputs": [],
   "source": [
    "import pandas as pd"
   ]
  },
  {
   "cell_type": "markdown",
   "metadata": {},
   "source": [
    "# Separando dados para Treino e Teste"
   ]
  },
  {
   "cell_type": "code",
   "execution_count": 116,
   "metadata": {},
   "outputs": [],
   "source": [
    "# Para base de Treino\n",
    "base = pd.read_csv('../datasets/titanic_train.csv')\n",
    "base = base.drop('Cabin', axis=1)\n",
    "base = base.dropna()\n",
    "colunas = base.dtypes[base.dtypes.values == 'object'].index\n",
    "base = base.drop(colunas, axis=1)"
   ]
  },
  {
   "cell_type": "code",
   "execution_count": 117,
   "metadata": {},
   "outputs": [],
   "source": [
    "# Para base de Teste\n",
    "teste = pd.read_csv('../datasets/titanic_train.csv')\n",
    "teste = teste.drop('Cabin', axis=1)\n",
    "teste = teste.dropna()\n",
    "teste = teste.drop(colunas, axis=1)"
   ]
  },
  {
   "cell_type": "markdown",
   "metadata": {},
   "source": [
    "# Avaliando o modelo"
   ]
  },
  {
   "cell_type": "code",
   "execution_count": 118,
   "metadata": {},
   "outputs": [],
   "source": [
    "# Definindo o X e o y para o treino\n",
    "X_treino = teste.drop('Survived', axis=1)\n",
    "y_treino = base.Survived"
   ]
  },
  {
   "cell_type": "code",
   "execution_count": 119,
   "metadata": {},
   "outputs": [],
   "source": [
    "# Definindo o X e o y para o teste\n",
    "X_teste = teste.drop('Survived', axis=1)\n",
    "y_teste = base.Survived"
   ]
  },
  {
   "cell_type": "markdown",
   "metadata": {},
   "source": [
    "# Usando os algoritmos e avaliando o erro"
   ]
  },
  {
   "cell_type": "code",
   "execution_count": 120,
   "metadata": {},
   "outputs": [],
   "source": [
    "from sklearn.neighbors import KNeighborsClassifier\n",
    "neigh = KNeighborsClassifier(n_neighbors=3)\n",
    "\n",
    "from sklearn import tree\n",
    "clfArvore = tree.DecisionTreeClassifier(random_state=0)\n",
    "\n",
    "from sklearn.linear_model import LogisticRegression\n",
    "clfLog = LogisticRegression(random_state=0, max_iter=1000)"
   ]
  },
  {
   "cell_type": "code",
   "execution_count": 121,
   "metadata": {},
   "outputs": [],
   "source": [
    "# Fazendo o fit do modelo\n",
    "neight = neigh.fit(X_treino, y_treino)\n",
    "\n",
    "clfArvore = clfArvore.fit(X_treino, y_treino)\n",
    "\n",
    "clflog = clfLog.fit(X_treino, y_treino)"
   ]
  },
  {
   "cell_type": "code",
   "execution_count": 122,
   "metadata": {},
   "outputs": [],
   "source": [
    "# Fazendo a predição\n",
    "pred_KNN = neigh.predict(X_teste)\n",
    "\n",
    "pred_Arvore = clfArvore.predict(X_teste)\n",
    "\n",
    "pred_Log = clfLog.predict(X_teste)"
   ]
  },
  {
   "cell_type": "code",
   "execution_count": 123,
   "metadata": {},
   "outputs": [],
   "source": [
    "# Importando as métricas de avaliação\n",
    "from sklearn.metrics import accuracy_score\n",
    "from sklearn.metrics import precision_score\n",
    "from sklearn.metrics import recall_score"
   ]
  },
  {
   "cell_type": "code",
   "execution_count": 124,
   "metadata": {},
   "outputs": [
    {
     "name": "stdout",
     "output_type": "stream",
     "text": [
      "0.7907303370786517\n",
      "1.0\n",
      "0.7064606741573034\n"
     ]
    }
   ],
   "source": [
    "# Acurácia\n",
    "print(accuracy_score(y_teste,pred_KNN))\n",
    "print(accuracy_score(y_teste,pred_Arvore))\n",
    "print(accuracy_score(y_teste,pred_Log))"
   ]
  },
  {
   "cell_type": "code",
   "execution_count": 125,
   "metadata": {},
   "outputs": [
    {
     "name": "stdout",
     "output_type": "stream",
     "text": [
      "0.7982832618025751\n",
      "1.0\n",
      "0.6820276497695853\n"
     ]
    }
   ],
   "source": [
    "# Precisão\n",
    "print(precision_score(y_teste,pred_KNN))\n",
    "print(precision_score(y_teste,pred_Arvore))\n",
    "print(precision_score(y_teste,pred_Log))"
   ]
  },
  {
   "cell_type": "code",
   "execution_count": 126,
   "metadata": {},
   "outputs": [
    {
     "name": "stdout",
     "output_type": "stream",
     "text": [
      "0.6458333333333334\n",
      "1.0\n",
      "0.5138888888888888\n"
     ]
    }
   ],
   "source": [
    "# Recall\n",
    "print(recall_score(y_teste,pred_KNN))\n",
    "print(recall_score(y_teste,pred_Arvore))\n",
    "print(recall_score(y_teste,pred_Log))"
   ]
  },
  {
   "cell_type": "markdown",
   "metadata": {},
   "source": [
    "# Etapa 1 Tratamento de dados"
   ]
  },
  {
   "cell_type": "code",
   "execution_count": 127,
   "metadata": {},
   "outputs": [
    {
     "data": {
      "text/html": [
       "<div>\n",
       "<style scoped>\n",
       "    .dataframe tbody tr th:only-of-type {\n",
       "        vertical-align: middle;\n",
       "    }\n",
       "\n",
       "    .dataframe tbody tr th {\n",
       "        vertical-align: top;\n",
       "    }\n",
       "\n",
       "    .dataframe thead th {\n",
       "        text-align: right;\n",
       "    }\n",
       "</style>\n",
       "<table border=\"1\" class=\"dataframe\">\n",
       "  <thead>\n",
       "    <tr style=\"text-align: right;\">\n",
       "      <th></th>\n",
       "      <th>PassengerId</th>\n",
       "      <th>Survived</th>\n",
       "      <th>Pclass</th>\n",
       "      <th>Name</th>\n",
       "      <th>Sex</th>\n",
       "      <th>Age</th>\n",
       "      <th>SibSp</th>\n",
       "      <th>Parch</th>\n",
       "      <th>Ticket</th>\n",
       "      <th>Fare</th>\n",
       "      <th>Cabin</th>\n",
       "      <th>Embarked</th>\n",
       "    </tr>\n",
       "  </thead>\n",
       "  <tbody>\n",
       "    <tr>\n",
       "      <th>0</th>\n",
       "      <td>1</td>\n",
       "      <td>0</td>\n",
       "      <td>3</td>\n",
       "      <td>Braund, Mr. Owen Harris</td>\n",
       "      <td>male</td>\n",
       "      <td>22.0</td>\n",
       "      <td>1</td>\n",
       "      <td>0</td>\n",
       "      <td>A/5 21171</td>\n",
       "      <td>7.2500</td>\n",
       "      <td>NaN</td>\n",
       "      <td>S</td>\n",
       "    </tr>\n",
       "    <tr>\n",
       "      <th>1</th>\n",
       "      <td>2</td>\n",
       "      <td>1</td>\n",
       "      <td>1</td>\n",
       "      <td>Cumings, Mrs. John Bradley (Florence Briggs Th...</td>\n",
       "      <td>female</td>\n",
       "      <td>38.0</td>\n",
       "      <td>1</td>\n",
       "      <td>0</td>\n",
       "      <td>PC 17599</td>\n",
       "      <td>71.2833</td>\n",
       "      <td>C85</td>\n",
       "      <td>C</td>\n",
       "    </tr>\n",
       "  </tbody>\n",
       "</table>\n",
       "</div>"
      ],
      "text/plain": [
       "   PassengerId  Survived  Pclass  \\\n",
       "0            1         0       3   \n",
       "1            2         1       1   \n",
       "\n",
       "                                                Name     Sex   Age  SibSp  \\\n",
       "0                            Braund, Mr. Owen Harris    male  22.0      1   \n",
       "1  Cumings, Mrs. John Bradley (Florence Briggs Th...  female  38.0      1   \n",
       "\n",
       "   Parch     Ticket     Fare Cabin Embarked  \n",
       "0      0  A/5 21171   7.2500   NaN        S  \n",
       "1      0   PC 17599  71.2833   C85        C  "
      ]
     },
     "execution_count": 127,
     "metadata": {},
     "output_type": "execute_result"
    }
   ],
   "source": [
    "base = pd.read_csv('../datasets/titanic_train.csv')\n",
    "base.head(2)"
   ]
  },
  {
   "cell_type": "markdown",
   "metadata": {},
   "source": [
    "## Retirando colunas com alta cardinalidade\n",
    "- Para o modelo aprender e não decorar\n",
    "- Evitar overfitting(se ajusta muito bem ao conjunto de dados anteriormente observado, mas se mostra ineficaz para prever novos resultados)"
   ]
  },
  {
   "cell_type": "code",
   "execution_count": 128,
   "metadata": {},
   "outputs": [],
   "source": [
    "# Retirnado as colunas Name e PassengerId com alta cardinalidades\n",
    "base = base.drop(['Name','PassengerId'], axis=1) # eixo axis=1 coluna\n"
   ]
  },
  {
   "cell_type": "code",
   "execution_count": 129,
   "metadata": {},
   "outputs": [],
   "source": [
    "# Retirando coluna 'Cabin' por causa da alta cardinalidade e pela quantidade de valores vazios\n",
    "base = base.drop('Cabin', axis=1)"
   ]
  },
  {
   "cell_type": "markdown",
   "metadata": {},
   "source": [
    "## Na idade substituir os valores vazios com a media das idades"
   ]
  },
  {
   "cell_type": "code",
   "execution_count": 130,
   "metadata": {},
   "outputs": [
    {
     "data": {
      "text/plain": [
       "np.float64(29.69911764705882)"
      ]
     },
     "execution_count": 130,
     "metadata": {},
     "output_type": "execute_result"
    }
   ],
   "source": [
    "# Calculando a média\n",
    "base['Age'].mean()"
   ]
  },
  {
   "cell_type": "code",
   "execution_count": 131,
   "metadata": {},
   "outputs": [
    {
     "data": {
      "text/plain": [
       "5     NaN\n",
       "17    NaN\n",
       "19    NaN\n",
       "26    NaN\n",
       "28    NaN\n",
       "       ..\n",
       "859   NaN\n",
       "863   NaN\n",
       "868   NaN\n",
       "878   NaN\n",
       "888   NaN\n",
       "Name: Age, Length: 177, dtype: float64"
      ]
     },
     "execution_count": 131,
     "metadata": {},
     "output_type": "execute_result"
    }
   ],
   "source": [
    "# Filtrando apaenas Age vazio\n",
    "# base[base.Age.isnull()] mostra todas as colunas\n",
    "\n",
    "base.loc[base.Age.isnull(),'Age'] # mostra so a idade"
   ]
  },
  {
   "cell_type": "code",
   "execution_count": 132,
   "metadata": {},
   "outputs": [],
   "source": [
    "# Atribuindo a mádia da idade ao valores vazios\n",
    "base.loc[base.Age.isnull(),'Age'] = base['Age'].mean()"
   ]
  },
  {
   "cell_type": "markdown",
   "metadata": {},
   "source": [
    "## Apagar as linhas com valores vazios"
   ]
  },
  {
   "cell_type": "code",
   "execution_count": 133,
   "metadata": {},
   "outputs": [],
   "source": [
    "base = base.dropna()"
   ]
  },
  {
   "cell_type": "markdown",
   "metadata": {},
   "source": [
    "## Apagando os dados do tipo objeto"
   ]
  },
  {
   "cell_type": "code",
   "execution_count": 134,
   "metadata": {},
   "outputs": [],
   "source": [
    "colunas = base.dtypes[base.dtypes.values == 'object'].index\n",
    "base = base.drop(colunas, axis=1)"
   ]
  },
  {
   "cell_type": "code",
   "execution_count": 135,
   "metadata": {},
   "outputs": [
    {
     "name": "stdout",
     "output_type": "stream",
     "text": [
      "<class 'pandas.core.frame.DataFrame'>\n",
      "Index: 889 entries, 0 to 890\n",
      "Data columns (total 6 columns):\n",
      " #   Column    Non-Null Count  Dtype  \n",
      "---  ------    --------------  -----  \n",
      " 0   Survived  889 non-null    int64  \n",
      " 1   Pclass    889 non-null    int64  \n",
      " 2   Age       889 non-null    float64\n",
      " 3   SibSp     889 non-null    int64  \n",
      " 4   Parch     889 non-null    int64  \n",
      " 5   Fare      889 non-null    float64\n",
      "dtypes: float64(2), int64(4)\n",
      "memory usage: 48.6 KB\n"
     ]
    }
   ],
   "source": [
    "# Verificando informações\n",
    "base.info()"
   ]
  },
  {
   "cell_type": "code",
   "execution_count": 136,
   "metadata": {},
   "outputs": [],
   "source": [
    "# Para base de teste\n",
    "teste = pd.read_csv('../datasets/titanic_train.csv')\n",
    "teste = teste.drop(['PassengerId','Name'], axis=1)\n",
    "teste = teste.drop('Cabin', axis=1)\n",
    "teste.loc[teste.Age.isnull(),'Age'] = teste.Age.mean()\n",
    "teste = teste.dropna()\n",
    "teste = teste.drop(colunas, axis=1)"
   ]
  },
  {
   "cell_type": "code",
   "execution_count": 137,
   "metadata": {},
   "outputs": [],
   "source": [
    "# Definindo o X e o y para o treino\n",
    "X_treino = teste.drop('Survived', axis=1)\n",
    "y_treino = base.Survived"
   ]
  },
  {
   "cell_type": "code",
   "execution_count": 138,
   "metadata": {},
   "outputs": [],
   "source": [
    "# Definindo o X e o y para o teste\n",
    "X_teste = teste.drop('Survived', axis=1)\n",
    "y_teste = base.Survived"
   ]
  },
  {
   "cell_type": "code",
   "execution_count": 139,
   "metadata": {},
   "outputs": [],
   "source": [
    "from sklearn.neighbors import KNeighborsClassifier\n",
    "neigh = KNeighborsClassifier(n_neighbors=3)\n",
    "\n",
    "from sklearn import tree\n",
    "clfArvore = tree.DecisionTreeClassifier(random_state=0)\n",
    "\n",
    "from sklearn.linear_model import LogisticRegression\n",
    "clfLog = LogisticRegression(random_state=0, max_iter=1000)"
   ]
  },
  {
   "cell_type": "code",
   "execution_count": 140,
   "metadata": {},
   "outputs": [],
   "source": [
    "# Fazendo o fit do modelo\n",
    "neight = neigh.fit(X_treino, y_treino)\n",
    "\n",
    "clfArvore = clfArvore.fit(X_treino, y_treino)\n",
    "\n",
    "clflog = clfLog.fit(X_treino, y_treino)"
   ]
  },
  {
   "cell_type": "code",
   "execution_count": 141,
   "metadata": {},
   "outputs": [],
   "source": [
    "# Fazendo a predição\n",
    "pred_KNN = neigh.predict(X_teste)\n",
    "\n",
    "pred_Arvore = clfArvore.predict(X_teste)\n",
    "\n",
    "pred_Log = clfLog.predict(X_teste)"
   ]
  },
  {
   "cell_type": "code",
   "execution_count": 142,
   "metadata": {},
   "outputs": [],
   "source": [
    "# Importando as métricas de avaliação\n",
    "from sklearn.metrics import accuracy_score\n",
    "from sklearn.metrics import precision_score\n",
    "from sklearn.metrics import recall_score"
   ]
  },
  {
   "cell_type": "code",
   "execution_count": 143,
   "metadata": {},
   "outputs": [
    {
     "name": "stdout",
     "output_type": "stream",
     "text": [
      "0.8008998875140607\n",
      "0.9572553430821147\n",
      "0.703037120359955\n"
     ]
    }
   ],
   "source": [
    "# Acurácia\n",
    "print(accuracy_score(y_teste,pred_KNN))\n",
    "print(accuracy_score(y_teste,pred_Arvore))\n",
    "print(accuracy_score(y_teste,pred_Log))"
   ]
  },
  {
   "cell_type": "code",
   "execution_count": 144,
   "metadata": {},
   "outputs": [
    {
     "name": "stdout",
     "output_type": "stream",
     "text": [
      "0.7492354740061162\n",
      "0.9778481012658228\n",
      "0.6696428571428571\n"
     ]
    }
   ],
   "source": [
    "# Precisão\n",
    "print(precision_score(y_teste,pred_KNN))\n",
    "print(precision_score(y_teste,pred_Arvore))\n",
    "print(precision_score(y_teste,pred_Log))"
   ]
  },
  {
   "cell_type": "code",
   "execution_count": 145,
   "metadata": {},
   "outputs": [
    {
     "name": "stdout",
     "output_type": "stream",
     "text": [
      "0.7205882352941176\n",
      "0.9088235294117647\n",
      "0.4411764705882353\n"
     ]
    }
   ],
   "source": [
    "# Recall\n",
    "print(recall_score(y_teste,pred_KNN))\n",
    "print(recall_score(y_teste,pred_Arvore))\n",
    "print(recall_score(y_teste,pred_Log))"
   ]
  },
  {
   "cell_type": "markdown",
   "metadata": {},
   "source": [
    "# Etapa 2: incluindo informaçoes de gênero na base"
   ]
  },
  {
   "cell_type": "code",
   "execution_count": 146,
   "metadata": {},
   "outputs": [
    {
     "data": {
      "text/html": [
       "<div>\n",
       "<style scoped>\n",
       "    .dataframe tbody tr th:only-of-type {\n",
       "        vertical-align: middle;\n",
       "    }\n",
       "\n",
       "    .dataframe tbody tr th {\n",
       "        vertical-align: top;\n",
       "    }\n",
       "\n",
       "    .dataframe thead th {\n",
       "        text-align: right;\n",
       "    }\n",
       "</style>\n",
       "<table border=\"1\" class=\"dataframe\">\n",
       "  <thead>\n",
       "    <tr style=\"text-align: right;\">\n",
       "      <th></th>\n",
       "      <th>PassengerId</th>\n",
       "      <th>Survived</th>\n",
       "      <th>Pclass</th>\n",
       "      <th>Name</th>\n",
       "      <th>Sex</th>\n",
       "      <th>Age</th>\n",
       "      <th>SibSp</th>\n",
       "      <th>Parch</th>\n",
       "      <th>Ticket</th>\n",
       "      <th>Fare</th>\n",
       "      <th>Cabin</th>\n",
       "      <th>Embarked</th>\n",
       "    </tr>\n",
       "  </thead>\n",
       "  <tbody>\n",
       "    <tr>\n",
       "      <th>0</th>\n",
       "      <td>1</td>\n",
       "      <td>0</td>\n",
       "      <td>3</td>\n",
       "      <td>Braund, Mr. Owen Harris</td>\n",
       "      <td>male</td>\n",
       "      <td>22.0</td>\n",
       "      <td>1</td>\n",
       "      <td>0</td>\n",
       "      <td>A/5 21171</td>\n",
       "      <td>7.2500</td>\n",
       "      <td>NaN</td>\n",
       "      <td>S</td>\n",
       "    </tr>\n",
       "    <tr>\n",
       "      <th>1</th>\n",
       "      <td>2</td>\n",
       "      <td>1</td>\n",
       "      <td>1</td>\n",
       "      <td>Cumings, Mrs. John Bradley (Florence Briggs Th...</td>\n",
       "      <td>female</td>\n",
       "      <td>38.0</td>\n",
       "      <td>1</td>\n",
       "      <td>0</td>\n",
       "      <td>PC 17599</td>\n",
       "      <td>71.2833</td>\n",
       "      <td>C85</td>\n",
       "      <td>C</td>\n",
       "    </tr>\n",
       "  </tbody>\n",
       "</table>\n",
       "</div>"
      ],
      "text/plain": [
       "   PassengerId  Survived  Pclass  \\\n",
       "0            1         0       3   \n",
       "1            2         1       1   \n",
       "\n",
       "                                                Name     Sex   Age  SibSp  \\\n",
       "0                            Braund, Mr. Owen Harris    male  22.0      1   \n",
       "1  Cumings, Mrs. John Bradley (Florence Briggs Th...  female  38.0      1   \n",
       "\n",
       "   Parch     Ticket     Fare Cabin Embarked  \n",
       "0      0  A/5 21171   7.2500   NaN        S  \n",
       "1      0   PC 17599  71.2833   C85        C  "
      ]
     },
     "execution_count": 146,
     "metadata": {},
     "output_type": "execute_result"
    }
   ],
   "source": [
    "# Para a base de treino\n",
    "base = pd.read_csv('../datasets/titanic_train.csv')\n",
    "base.head(2)"
   ]
  },
  {
   "cell_type": "code",
   "execution_count": 147,
   "metadata": {},
   "outputs": [
    {
     "data": {
      "text/plain": [
       "Sex\n",
       "male      577\n",
       "female    314\n",
       "Name: count, dtype: int64"
      ]
     },
     "execution_count": 147,
     "metadata": {},
     "output_type": "execute_result"
    }
   ],
   "source": [
    "# Quais informações tenho na coluna gênero\n",
    "base.Sex.value_counts()"
   ]
  },
  {
   "cell_type": "code",
   "execution_count": 148,
   "metadata": {},
   "outputs": [],
   "source": [
    "# Criando uma nova coluna avaliando apenas se o valor e Male\n",
    "# Função lambda para verificar a coluna criada\n",
    "base['IsMale'] = base.Sex.apply(lambda x:1 if x == 'male' else 0)"
   ]
  },
  {
   "cell_type": "code",
   "execution_count": 149,
   "metadata": {},
   "outputs": [
    {
     "data": {
      "text/plain": [
       "Sex     IsMale\n",
       "female  0         314\n",
       "male    1         577\n",
       "Name: Sex, dtype: int64"
      ]
     },
     "execution_count": 149,
     "metadata": {},
     "output_type": "execute_result"
    }
   ],
   "source": [
    "# Visualizando nova coluna, valores adicionados\n",
    "base.groupby(['Sex','IsMale'])['Sex'].count() "
   ]
  },
  {
   "cell_type": "markdown",
   "metadata": {},
   "source": [
    "# Mesmo tratamentos da etapa 1"
   ]
  },
  {
   "cell_type": "code",
   "execution_count": 150,
   "metadata": {},
   "outputs": [],
   "source": [
    "base = base.drop(['PassengerId','Name'], axis=1)\n",
    "base = base.drop('Cabin', axis=1)\n",
    "base.loc[base.Age.isnull(),'Age'] = base.Age.mean()\n",
    "base = base.dropna()\n",
    "base = base.drop(colunas, axis=1)"
   ]
  },
  {
   "cell_type": "code",
   "execution_count": 151,
   "metadata": {},
   "outputs": [
    {
     "name": "stdout",
     "output_type": "stream",
     "text": [
      "<class 'pandas.core.frame.DataFrame'>\n",
      "Index: 889 entries, 0 to 890\n",
      "Data columns (total 7 columns):\n",
      " #   Column    Non-Null Count  Dtype  \n",
      "---  ------    --------------  -----  \n",
      " 0   Survived  889 non-null    int64  \n",
      " 1   Pclass    889 non-null    int64  \n",
      " 2   Age       889 non-null    float64\n",
      " 3   SibSp     889 non-null    int64  \n",
      " 4   Parch     889 non-null    int64  \n",
      " 5   Fare      889 non-null    float64\n",
      " 6   IsMale    889 non-null    int64  \n",
      "dtypes: float64(2), int64(5)\n",
      "memory usage: 55.6 KB\n"
     ]
    }
   ],
   "source": [
    "base.info()"
   ]
  },
  {
   "cell_type": "code",
   "execution_count": 152,
   "metadata": {},
   "outputs": [],
   "source": [
    "teste = pd.read_csv('../datasets/titanic_train.csv')\n",
    "teste['IsMale'] = teste['Sex'].apply(lambda x:1 if x == 'male' else 0)\n",
    "teste = teste.drop(['PassengerId','Name'], axis=1)\n",
    "teste = teste.drop('Cabin', axis=1)\n",
    "teste.loc[teste.Age.isnull(),'Age'] = teste.Age.mean()\n",
    "teste = teste.dropna()\n",
    "teste = teste.drop(colunas, axis=1)"
   ]
  },
  {
   "cell_type": "markdown",
   "metadata": {},
   "source": [
    "## Avaliando o modelo"
   ]
  },
  {
   "cell_type": "code",
   "execution_count": 153,
   "metadata": {},
   "outputs": [],
   "source": [
    "# Definindo o X e o y para o treino\n",
    "X_treino = teste.drop('Survived', axis=1)\n",
    "y_treino = base.Survived"
   ]
  },
  {
   "cell_type": "code",
   "execution_count": 154,
   "metadata": {},
   "outputs": [],
   "source": [
    "# Definindo o X e o y para o teste\n",
    "X_teste = teste.drop('Survived', axis=1)\n",
    "y_teste = base.Survived"
   ]
  },
  {
   "cell_type": "markdown",
   "metadata": {},
   "source": [
    "## Usando os algoritmos e avaliando o erro"
   ]
  },
  {
   "cell_type": "code",
   "execution_count": 174,
   "metadata": {},
   "outputs": [],
   "source": [
    "from sklearn.neighbors import KNeighborsClassifier\n",
    "neigh = KNeighborsClassifier(n_neighbors=3)\n",
    "\n",
    "from sklearn import tree\n",
    "clfArvore = tree.DecisionTreeClassifier(random_state=0)\n",
    "\n",
    "from sklearn.linear_model import LogisticRegression\n",
    "clfLog = LogisticRegression(random_state=0, max_iter=1000)"
   ]
  },
  {
   "cell_type": "code",
   "execution_count": 156,
   "metadata": {},
   "outputs": [],
   "source": [
    "# Fazendo o fit do modelo\n",
    "neight = neigh.fit(X_treino, y_treino)\n",
    "\n",
    "clfArvore = clfArvore.fit(X_treino, y_treino)\n",
    "\n",
    "clflog = clfLog.fit(X_treino, y_treino)"
   ]
  },
  {
   "cell_type": "code",
   "execution_count": 157,
   "metadata": {},
   "outputs": [],
   "source": [
    "# Fazendo a predição\n",
    "pred_KNN = neigh.predict(X_teste)\n",
    "\n",
    "pred_Arvore = clfArvore.predict(X_teste)\n",
    "\n",
    "pred_Log = clfLog.predict(X_teste)"
   ]
  },
  {
   "cell_type": "code",
   "execution_count": 158,
   "metadata": {},
   "outputs": [],
   "source": [
    "# Importando as métricas de avaliação\n",
    "from sklearn.metrics import accuracy_score\n",
    "from sklearn.metrics import precision_score\n",
    "from sklearn.metrics import recall_score"
   ]
  },
  {
   "cell_type": "code",
   "execution_count": 159,
   "metadata": {},
   "outputs": [
    {
     "name": "stdout",
     "output_type": "stream",
     "text": [
      "0.8413948256467941\n",
      "0.9820022497187851\n",
      "0.7975253093363329\n"
     ]
    }
   ],
   "source": [
    "# Acurácia\n",
    "print(accuracy_score(y_teste,pred_KNN))\n",
    "print(accuracy_score(y_teste,pred_Arvore))\n",
    "print(accuracy_score(y_teste,pred_Log))"
   ]
  },
  {
   "cell_type": "code",
   "execution_count": 160,
   "metadata": {},
   "outputs": [
    {
     "name": "stdout",
     "output_type": "stream",
     "text": [
      "0.8178913738019169\n",
      "0.9939024390243902\n",
      "0.75\n"
     ]
    }
   ],
   "source": [
    "# Precisão\n",
    "print(precision_score(y_teste,pred_KNN))\n",
    "print(precision_score(y_teste,pred_Arvore))\n",
    "print(precision_score(y_teste,pred_Log))"
   ]
  },
  {
   "cell_type": "code",
   "execution_count": 161,
   "metadata": {},
   "outputs": [
    {
     "name": "stdout",
     "output_type": "stream",
     "text": [
      "0.7529411764705882\n",
      "0.9588235294117647\n",
      "0.7058823529411765\n"
     ]
    }
   ],
   "source": [
    "# Recall\n",
    "print(recall_score(y_teste,pred_KNN))\n",
    "print(recall_score(y_teste,pred_Arvore))\n",
    "print(recall_score(y_teste,pred_Log))"
   ]
  },
  {
   "cell_type": "markdown",
   "metadata": {},
   "source": [
    "# Etapa 3: incluindo a informação do porto de embarque - (Piorou)"
   ]
  },
  {
   "cell_type": "code",
   "execution_count": 164,
   "metadata": {},
   "outputs": [
    {
     "data": {
      "text/html": [
       "<div>\n",
       "<style scoped>\n",
       "    .dataframe tbody tr th:only-of-type {\n",
       "        vertical-align: middle;\n",
       "    }\n",
       "\n",
       "    .dataframe tbody tr th {\n",
       "        vertical-align: top;\n",
       "    }\n",
       "\n",
       "    .dataframe thead th {\n",
       "        text-align: right;\n",
       "    }\n",
       "</style>\n",
       "<table border=\"1\" class=\"dataframe\">\n",
       "  <thead>\n",
       "    <tr style=\"text-align: right;\">\n",
       "      <th></th>\n",
       "      <th>PassengerId</th>\n",
       "      <th>Survived</th>\n",
       "      <th>Pclass</th>\n",
       "      <th>Name</th>\n",
       "      <th>Sex</th>\n",
       "      <th>Age</th>\n",
       "      <th>SibSp</th>\n",
       "      <th>Parch</th>\n",
       "      <th>Ticket</th>\n",
       "      <th>Fare</th>\n",
       "      <th>Cabin</th>\n",
       "      <th>Embarked</th>\n",
       "    </tr>\n",
       "  </thead>\n",
       "  <tbody>\n",
       "    <tr>\n",
       "      <th>0</th>\n",
       "      <td>1</td>\n",
       "      <td>0</td>\n",
       "      <td>3</td>\n",
       "      <td>Braund, Mr. Owen Harris</td>\n",
       "      <td>male</td>\n",
       "      <td>22.0</td>\n",
       "      <td>1</td>\n",
       "      <td>0</td>\n",
       "      <td>A/5 21171</td>\n",
       "      <td>7.2500</td>\n",
       "      <td>NaN</td>\n",
       "      <td>S</td>\n",
       "    </tr>\n",
       "    <tr>\n",
       "      <th>1</th>\n",
       "      <td>2</td>\n",
       "      <td>1</td>\n",
       "      <td>1</td>\n",
       "      <td>Cumings, Mrs. John Bradley (Florence Briggs Th...</td>\n",
       "      <td>female</td>\n",
       "      <td>38.0</td>\n",
       "      <td>1</td>\n",
       "      <td>0</td>\n",
       "      <td>PC 17599</td>\n",
       "      <td>71.2833</td>\n",
       "      <td>C85</td>\n",
       "      <td>C</td>\n",
       "    </tr>\n",
       "  </tbody>\n",
       "</table>\n",
       "</div>"
      ],
      "text/plain": [
       "   PassengerId  Survived  Pclass  \\\n",
       "0            1         0       3   \n",
       "1            2         1       1   \n",
       "\n",
       "                                                Name     Sex   Age  SibSp  \\\n",
       "0                            Braund, Mr. Owen Harris    male  22.0      1   \n",
       "1  Cumings, Mrs. John Bradley (Florence Briggs Th...  female  38.0      1   \n",
       "\n",
       "   Parch     Ticket     Fare Cabin Embarked  \n",
       "0      0  A/5 21171   7.2500   NaN        S  \n",
       "1      0   PC 17599  71.2833   C85        C  "
      ]
     },
     "execution_count": 164,
     "metadata": {},
     "output_type": "execute_result"
    }
   ],
   "source": [
    "# Para a base de treino\n",
    "base = pd.read_csv('../datasets/titanic_train.csv')\n",
    "base.head(2)"
   ]
  },
  {
   "cell_type": "markdown",
   "metadata": {},
   "source": [
    "# Utilizando o get_dummies\n"
   ]
  },
  {
   "cell_type": "code",
   "execution_count": 166,
   "metadata": {},
   "outputs": [
    {
     "data": {
      "text/html": [
       "<div>\n",
       "<style scoped>\n",
       "    .dataframe tbody tr th:only-of-type {\n",
       "        vertical-align: middle;\n",
       "    }\n",
       "\n",
       "    .dataframe tbody tr th {\n",
       "        vertical-align: top;\n",
       "    }\n",
       "\n",
       "    .dataframe thead th {\n",
       "        text-align: right;\n",
       "    }\n",
       "</style>\n",
       "<table border=\"1\" class=\"dataframe\">\n",
       "  <thead>\n",
       "    <tr style=\"text-align: right;\">\n",
       "      <th></th>\n",
       "      <th>C</th>\n",
       "      <th>Q</th>\n",
       "      <th>S</th>\n",
       "    </tr>\n",
       "  </thead>\n",
       "  <tbody>\n",
       "    <tr>\n",
       "      <th>0</th>\n",
       "      <td>False</td>\n",
       "      <td>False</td>\n",
       "      <td>True</td>\n",
       "    </tr>\n",
       "    <tr>\n",
       "      <th>1</th>\n",
       "      <td>True</td>\n",
       "      <td>False</td>\n",
       "      <td>False</td>\n",
       "    </tr>\n",
       "    <tr>\n",
       "      <th>2</th>\n",
       "      <td>False</td>\n",
       "      <td>False</td>\n",
       "      <td>True</td>\n",
       "    </tr>\n",
       "  </tbody>\n",
       "</table>\n",
       "</div>"
      ],
      "text/plain": [
       "       C      Q      S\n",
       "0  False  False   True\n",
       "1   True  False  False\n",
       "2  False  False   True"
      ]
     },
     "execution_count": 166,
     "metadata": {},
     "output_type": "execute_result"
    }
   ],
   "source": [
    "pd.get_dummies(base.Embarked).head(3)"
   ]
  },
  {
   "cell_type": "code",
   "execution_count": 168,
   "metadata": {},
   "outputs": [],
   "source": [
    "# Unindo essas informações na base\n",
    "base = pd.concat([base,pd.get_dummies(base.Embarked)], axis=1)"
   ]
  },
  {
   "cell_type": "markdown",
   "metadata": {},
   "source": [
    "## Fazer os tratamentos das etapas anteriores"
   ]
  },
  {
   "cell_type": "code",
   "execution_count": 169,
   "metadata": {},
   "outputs": [],
   "source": [
    "base = base.drop(['PassengerId','Name'], axis=1)\n",
    "base['IsMale'] = base['Sex'].apply(lambda x:1 if x == 'male' else 0)\n",
    "base = base.drop('Cabin', axis=1)\n",
    "base.loc[base.Age.isnull(),'Age'] = base.Age.mean()\n",
    "base = base.dropna()\n",
    "base = base.drop(colunas, axis=1)"
   ]
  },
  {
   "cell_type": "code",
   "execution_count": 171,
   "metadata": {},
   "outputs": [],
   "source": [
    "teste = pd.read_csv('../datasets/titanic_train.csv')\n",
    "teste['IsMale'] = teste['Sex'].apply(lambda x:1 if x == 'male' else 0)\n",
    "teste = pd.concat([teste,pd.get_dummies(teste.Embarked)], axis=1)\n",
    "teste = teste.drop(['PassengerId','Name'], axis=1)\n",
    "teste = teste.drop('Cabin', axis=1)\n",
    "teste.loc[teste.Age.isnull(),'Age'] = teste.Age.mean()\n",
    "teste = teste.dropna()\n",
    "teste = teste.drop(colunas, axis=1)"
   ]
  },
  {
   "cell_type": "markdown",
   "metadata": {},
   "source": [
    "## Avaliar o modelo"
   ]
  },
  {
   "cell_type": "code",
   "execution_count": 172,
   "metadata": {},
   "outputs": [],
   "source": [
    "# Definindo o X e o y para o treino\n",
    "X_treino = teste.drop('Survived', axis=1)\n",
    "y_treino = base.Survived"
   ]
  },
  {
   "cell_type": "code",
   "execution_count": 175,
   "metadata": {},
   "outputs": [],
   "source": [
    "# Definindo o X e o y para o teste\n",
    "X_teste = teste.drop('Survived', axis=1)\n",
    "y_teste = base.Survived"
   ]
  },
  {
   "cell_type": "markdown",
   "metadata": {},
   "source": [
    "## Usando os algoritmos e avaliando o erro"
   ]
  },
  {
   "cell_type": "code",
   "execution_count": 176,
   "metadata": {},
   "outputs": [],
   "source": [
    "from sklearn.neighbors import KNeighborsClassifier\n",
    "neigh = KNeighborsClassifier(n_neighbors=3)\n",
    "\n",
    "from sklearn import tree\n",
    "clfArvore = tree.DecisionTreeClassifier(random_state=0)\n",
    "\n",
    "from sklearn.linear_model import LogisticRegression\n",
    "clfLog = LogisticRegression(random_state=0, max_iter=1000)"
   ]
  },
  {
   "cell_type": "code",
   "execution_count": 177,
   "metadata": {},
   "outputs": [],
   "source": [
    "# Fazendo o fit do modelo\n",
    "neight = neigh.fit(X_treino, y_treino)\n",
    "\n",
    "clfArvore = clfArvore.fit(X_treino, y_treino)\n",
    "\n",
    "clflog = clfLog.fit(X_treino, y_treino)"
   ]
  },
  {
   "cell_type": "code",
   "execution_count": 178,
   "metadata": {},
   "outputs": [],
   "source": [
    "# Fazendo a predição\n",
    "pred_KNN = neigh.predict(X_teste)\n",
    "\n",
    "pred_Arvore = clfArvore.predict(X_teste)\n",
    "\n",
    "pred_Log = clfLog.predict(X_teste)"
   ]
  },
  {
   "cell_type": "code",
   "execution_count": 179,
   "metadata": {},
   "outputs": [],
   "source": [
    "# Importando as métricas de avaliação\n",
    "from sklearn.metrics import accuracy_score\n",
    "from sklearn.metrics import precision_score\n",
    "from sklearn.metrics import recall_score"
   ]
  },
  {
   "cell_type": "code",
   "execution_count": 180,
   "metadata": {},
   "outputs": [
    {
     "name": "stdout",
     "output_type": "stream",
     "text": [
      "0.8335208098987626\n",
      "0.9820022497187851\n",
      "0.8008998875140607\n"
     ]
    }
   ],
   "source": [
    "# Acurácia\n",
    "print(accuracy_score(y_teste,pred_KNN))\n",
    "print(accuracy_score(y_teste,pred_Arvore))\n",
    "print(accuracy_score(y_teste,pred_Log))"
   ]
  },
  {
   "cell_type": "code",
   "execution_count": 181,
   "metadata": {},
   "outputs": [
    {
     "name": "stdout",
     "output_type": "stream",
     "text": [
      "0.8057324840764332\n",
      "0.9939024390243902\n",
      "0.7603833865814696\n"
     ]
    }
   ],
   "source": [
    "# Precisão\n",
    "print(precision_score(y_teste,pred_KNN))\n",
    "print(precision_score(y_teste,pred_Arvore))\n",
    "print(precision_score(y_teste,pred_Log))"
   ]
  },
  {
   "cell_type": "code",
   "execution_count": 182,
   "metadata": {},
   "outputs": [
    {
     "name": "stdout",
     "output_type": "stream",
     "text": [
      "0.7441176470588236\n",
      "0.9588235294117647\n",
      "0.7\n"
     ]
    }
   ],
   "source": [
    "# Recall\n",
    "print(recall_score(y_teste,pred_KNN))\n",
    "print(recall_score(y_teste,pred_Arvore))\n",
    "print(recall_score(y_teste,pred_Log))"
   ]
  },
  {
   "cell_type": "markdown",
   "metadata": {},
   "source": [
    "## Avaliar o modelo"
   ]
  },
  {
   "cell_type": "code",
   "execution_count": null,
   "metadata": {},
   "outputs": [],
   "source": [
    "# Definindo o X e o y para o treino\n",
    "X_treino = teste.drop('Survived', axis=1)\n",
    "y_treino = base.Survived"
   ]
  },
  {
   "cell_type": "code",
   "execution_count": null,
   "metadata": {},
   "outputs": [],
   "source": [
    "# Definindo o X e o y para o teste\n",
    "X_teste = teste.drop('Survived', axis=1)\n",
    "y_teste = base.Survived"
   ]
  },
  {
   "cell_type": "markdown",
   "metadata": {},
   "source": [
    "## Usando os algoritmos e avaliando o erro"
   ]
  },
  {
   "cell_type": "code",
   "execution_count": null,
   "metadata": {},
   "outputs": [],
   "source": [
    "from sklearn.neighbors import KNeighborsClassifier\n",
    "neigh = KNeighborsClassifier(n_neighbors=3)\n",
    "\n",
    "from sklearn import tree\n",
    "clfArvore = tree.DecisionTreeClassifier(random_state=0)\n",
    "\n",
    "from sklearn.linear_model import LogisticRegression\n",
    "clfLog = LogisticRegression(random_state=0, max_iter=1000)"
   ]
  },
  {
   "cell_type": "code",
   "execution_count": null,
   "metadata": {},
   "outputs": [],
   "source": [
    "# Fazendo o fit do modelo\n",
    "neight = neigh.fit(X_treino, y_treino)\n",
    "\n",
    "clfArvore = clfArvore.fit(X_treino, y_treino)\n",
    "\n",
    "clflog = clfLog.fit(X_treino, y_treino)"
   ]
  },
  {
   "cell_type": "code",
   "execution_count": null,
   "metadata": {},
   "outputs": [],
   "source": [
    "# Fazendo a predição\n",
    "pred_KNN = neigh.predict(X_teste)\n",
    "\n",
    "pred_Arvore = clfArvore.predict(X_teste)\n",
    "\n",
    "pred_Log = clfLog.predict(X_teste)"
   ]
  },
  {
   "cell_type": "code",
   "execution_count": null,
   "metadata": {},
   "outputs": [],
   "source": [
    "# Importando as métricas de avaliação\n",
    "from sklearn.metrics import accuracy_score\n",
    "from sklearn.metrics import precision_score\n",
    "from sklearn.metrics import recall_score"
   ]
  },
  {
   "cell_type": "code",
   "execution_count": null,
   "metadata": {},
   "outputs": [
    {
     "name": "stdout",
     "output_type": "stream",
     "text": [
      "0.8335208098987626\n",
      "0.9820022497187851\n",
      "0.8008998875140607\n"
     ]
    }
   ],
   "source": [
    "# Acurácia\n",
    "print(accuracy_score(y_teste,pred_KNN))\n",
    "print(accuracy_score(y_teste,pred_Arvore))\n",
    "print(accuracy_score(y_teste,pred_Log))"
   ]
  },
  {
   "cell_type": "code",
   "execution_count": null,
   "metadata": {},
   "outputs": [
    {
     "name": "stdout",
     "output_type": "stream",
     "text": [
      "0.8057324840764332\n",
      "0.9939024390243902\n",
      "0.7603833865814696\n"
     ]
    }
   ],
   "source": [
    "# Precisão\n",
    "print(precision_score(y_teste,pred_KNN))\n",
    "print(precision_score(y_teste,pred_Arvore))\n",
    "print(precision_score(y_teste,pred_Log))"
   ]
  },
  {
   "cell_type": "code",
   "execution_count": null,
   "metadata": {},
   "outputs": [
    {
     "name": "stdout",
     "output_type": "stream",
     "text": [
      "0.7441176470588236\n",
      "0.9588235294117647\n",
      "0.7\n"
     ]
    }
   ],
   "source": [
    "# Recall\n",
    "print(recall_score(y_teste,pred_KNN))\n",
    "print(recall_score(y_teste,pred_Arvore))\n",
    "print(recall_score(y_teste,pred_Log))"
   ]
  },
  {
   "cell_type": "markdown",
   "metadata": {},
   "source": [
    "# Etapa 4: Retiranado colunas da base"
   ]
  },
  {
   "cell_type": "code",
   "execution_count": null,
   "metadata": {},
   "outputs": [
    {
     "data": {
      "text/html": [
       "<div>\n",
       "<style scoped>\n",
       "    .dataframe tbody tr th:only-of-type {\n",
       "        vertical-align: middle;\n",
       "    }\n",
       "\n",
       "    .dataframe tbody tr th {\n",
       "        vertical-align: top;\n",
       "    }\n",
       "\n",
       "    .dataframe thead th {\n",
       "        text-align: right;\n",
       "    }\n",
       "</style>\n",
       "<table border=\"1\" class=\"dataframe\">\n",
       "  <thead>\n",
       "    <tr style=\"text-align: right;\">\n",
       "      <th></th>\n",
       "      <th>Survived</th>\n",
       "      <th>Pclass</th>\n",
       "      <th>Age</th>\n",
       "      <th>SibSp</th>\n",
       "      <th>Parch</th>\n",
       "      <th>Fare</th>\n",
       "      <th>C</th>\n",
       "      <th>Q</th>\n",
       "      <th>S</th>\n",
       "      <th>IsMale</th>\n",
       "    </tr>\n",
       "  </thead>\n",
       "  <tbody>\n",
       "    <tr>\n",
       "      <th>0</th>\n",
       "      <td>0</td>\n",
       "      <td>3</td>\n",
       "      <td>22.0</td>\n",
       "      <td>1</td>\n",
       "      <td>0</td>\n",
       "      <td>7.2500</td>\n",
       "      <td>False</td>\n",
       "      <td>False</td>\n",
       "      <td>True</td>\n",
       "      <td>1</td>\n",
       "    </tr>\n",
       "    <tr>\n",
       "      <th>1</th>\n",
       "      <td>1</td>\n",
       "      <td>1</td>\n",
       "      <td>38.0</td>\n",
       "      <td>1</td>\n",
       "      <td>0</td>\n",
       "      <td>71.2833</td>\n",
       "      <td>True</td>\n",
       "      <td>False</td>\n",
       "      <td>False</td>\n",
       "      <td>0</td>\n",
       "    </tr>\n",
       "  </tbody>\n",
       "</table>\n",
       "</div>"
      ],
      "text/plain": [
       "   Survived  Pclass   Age  SibSp  Parch     Fare      C      Q      S  IsMale\n",
       "0         0       3  22.0      1      0   7.2500  False  False   True       1\n",
       "1         1       1  38.0      1      0  71.2833   True  False  False       0"
      ]
     },
     "execution_count": 183,
     "metadata": {},
     "output_type": "execute_result"
    }
   ],
   "source": [
    "# Fazendo os tratamentos\n",
    "base = pd.read_csv('../datasets/titanic_train.csv')\n",
    "#base = pd.concat([base,pd.get_dummies(base.Embarked)], axis=1)\n",
    "base = base.drop(['PassengerId','Name'], axis=1)\n",
    "base['IsMale'] = base['Sex'].apply(lambda x:1 if x == 'male' else 0)\n",
    "base = base.drop('Cabin', axis=1)\n",
    "base.loc[base.Age.isnull(),'Age'] = base.Age.mean()\n",
    "base = base.dropna()\n",
    "base = base.drop(colunas, axis=1)\n",
    "base.head(2)"
   ]
  },
  {
   "cell_type": "code",
   "execution_count": 184,
   "metadata": {},
   "outputs": [],
   "source": [
    "# Retirar Outras colunas da base\n",
    "retirar = ['Fare']\n",
    "base = base.drop(retirar,axis=1)"
   ]
  },
  {
   "cell_type": "code",
   "execution_count": 185,
   "metadata": {},
   "outputs": [],
   "source": [
    "# Base para teste\n",
    "teste = pd.read_csv('../datasets/titanic_train.csv')\n",
    "teste['IsMale'] = teste['Sex'].apply(lambda x:1 if x == 'male' else 0)\n",
    "#teste = pd.concat([teste,pd.get_dummies(teste.Embarked)], axis=1)\n",
    "teste = teste.drop(['PassengerId','Name'], axis=1)\n",
    "teste = teste.drop('Cabin', axis=1)\n",
    "teste.loc[teste.Age.isnull(),'Age'] = teste.Age.mean()\n",
    "teste = teste.dropna()\n",
    "teste = teste.drop(colunas, axis=1)\n",
    "teste = teste.drop(retirar, axis=1)"
   ]
  },
  {
   "cell_type": "markdown",
   "metadata": {},
   "source": [
    "## Avaliar o modelo"
   ]
  },
  {
   "cell_type": "code",
   "execution_count": 186,
   "metadata": {},
   "outputs": [],
   "source": [
    "# Definindo o X e o y para o treino\n",
    "X_treino = teste.drop('Survived', axis=1)\n",
    "y_treino = base.Survived"
   ]
  },
  {
   "cell_type": "code",
   "execution_count": 187,
   "metadata": {},
   "outputs": [],
   "source": [
    "# Definindo o X e o y para o teste\n",
    "X_teste = teste.drop('Survived', axis=1)\n",
    "y_teste = base.Survived"
   ]
  },
  {
   "cell_type": "markdown",
   "metadata": {},
   "source": [
    "## Usando os algoritmos e avaliando o erro"
   ]
  },
  {
   "cell_type": "code",
   "execution_count": 188,
   "metadata": {},
   "outputs": [],
   "source": [
    "from sklearn.neighbors import KNeighborsClassifier\n",
    "neigh = KNeighborsClassifier(n_neighbors=3)\n",
    "\n",
    "from sklearn import tree\n",
    "clfArvore = tree.DecisionTreeClassifier(random_state=0)\n",
    "\n",
    "from sklearn.linear_model import LogisticRegression\n",
    "clfLog = LogisticRegression(random_state=0, max_iter=1000)"
   ]
  },
  {
   "cell_type": "code",
   "execution_count": 189,
   "metadata": {},
   "outputs": [],
   "source": [
    "# Fazendo o fit do modelo\n",
    "neight = neigh.fit(X_treino, y_treino)\n",
    "\n",
    "clfArvore = clfArvore.fit(X_treino, y_treino)\n",
    "\n",
    "clflog = clfLog.fit(X_treino, y_treino)"
   ]
  },
  {
   "cell_type": "code",
   "execution_count": 190,
   "metadata": {},
   "outputs": [],
   "source": [
    "# Fazendo a predição\n",
    "pred_KNN = neigh.predict(X_teste)\n",
    "\n",
    "pred_Arvore = clfArvore.predict(X_teste)\n",
    "\n",
    "pred_Log = clfLog.predict(X_teste)"
   ]
  },
  {
   "cell_type": "code",
   "execution_count": 191,
   "metadata": {},
   "outputs": [],
   "source": [
    "# Importando as métricas de avaliação\n",
    "from sklearn.metrics import accuracy_score\n",
    "from sklearn.metrics import precision_score\n",
    "from sklearn.metrics import recall_score"
   ]
  },
  {
   "cell_type": "code",
   "execution_count": 192,
   "metadata": {},
   "outputs": [
    {
     "name": "stdout",
     "output_type": "stream",
     "text": [
      "0.8695163104611924\n",
      "0.9201349831271091\n",
      "0.7907761529808774\n"
     ]
    }
   ],
   "source": [
    "# Acurácia\n",
    "print(accuracy_score(y_teste,pred_KNN))\n",
    "print(accuracy_score(y_teste,pred_Arvore))\n",
    "print(accuracy_score(y_teste,pred_Log))"
   ]
  },
  {
   "cell_type": "code",
   "execution_count": 193,
   "metadata": {},
   "outputs": [
    {
     "name": "stdout",
     "output_type": "stream",
     "text": [
      "0.8478260869565217\n",
      "0.9559322033898305\n",
      "0.7361963190184049\n"
     ]
    }
   ],
   "source": [
    "# Precisão\n",
    "print(precision_score(y_teste,pred_KNN))\n",
    "print(precision_score(y_teste,pred_Arvore))\n",
    "print(precision_score(y_teste,pred_Log))"
   ]
  },
  {
   "cell_type": "code",
   "execution_count": 194,
   "metadata": {},
   "outputs": [
    {
     "name": "stdout",
     "output_type": "stream",
     "text": [
      "0.8029411764705883\n",
      "0.8294117647058824\n",
      "0.7058823529411765\n"
     ]
    }
   ],
   "source": [
    "# Recall\n",
    "print(recall_score(y_teste,pred_KNN))\n",
    "print(recall_score(y_teste,pred_Arvore))\n",
    "print(recall_score(y_teste,pred_Log))"
   ]
  }
 ],
 "metadata": {
  "kernelspec": {
   "display_name": ".venv",
   "language": "python",
   "name": "python3"
  },
  "language_info": {
   "codemirror_mode": {
    "name": "ipython",
    "version": 3
   },
   "file_extension": ".py",
   "mimetype": "text/x-python",
   "name": "python",
   "nbconvert_exporter": "python",
   "pygments_lexer": "ipython3",
   "version": "3.12.7"
  }
 },
 "nbformat": 4,
 "nbformat_minor": 2
}
