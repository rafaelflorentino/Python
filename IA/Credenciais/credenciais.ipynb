{
 "cells": [
  {
   "cell_type": "markdown",
   "metadata": {},
   "source": [
    "# Remover credenciais do git hub no windows"
   ]
  },
  {
   "cell_type": "code",
   "execution_count": null,
   "metadata": {},
   "outputs": [],
   "source": [
    "import subprocess\n",
    "\n",
    "def reset_github_credentials():\n",
    "    # excluir as credenciais do GitHub no Windows\n",
    "    cmd = 'cmdkey /delete:git:https://github.com'\n",
    "    subprocess.run(cmd, shell=True)\n",
    "\n",
    "    print(\"Credenciais do GitHub resetadas com sucesso.\")\n",
    "\n",
    "if __name__ == \"__main__\":\n",
    "    reset_github_credentials()"
   ]
  },
  {
   "cell_type": "markdown",
   "metadata": {},
   "source": [
    "# Automação, Mensagem no windows"
   ]
  },
  {
   "cell_type": "code",
   "execution_count": null,
   "metadata": {},
   "outputs": [],
   "source": [
    "# Aviso(mensagem) do windows automatizado\n",
    "\n",
    "import turtle\n",
    "import time\n",
    "\n",
    "# Função para criar a janela com a mensagem\n",
    "def show_message():\n",
    "    # Configurar a tela do turtle\n",
    "    screen = turtle.Screen()\n",
    "    screen.title(\"Mensagem Importante\")\n",
    "    screen.bgcolor(\"yellow\")  # Cor de fundo brilhante para chamar a atenção\n",
    "\n",
    "    # Criar um turtle para desenhar o retângulo de aviso\n",
    "    border_turtle = turtle.Turtle()\n",
    "    border_turtle.hideturtle()\n",
    "    border_turtle.speed(0)  # Velocidade máxima\n",
    "    border_turtle.penup()\n",
    "    \n",
    "    # Dimensões do retângulo\n",
    "    width = 600\n",
    "    height = 300\n",
    "    \n",
    "    # Desenhar a caixa vermelha\n",
    "    border_turtle.goto(-width // 2, height // 2)  # Ir para o ponto inicial\n",
    "    border_turtle.pendown()\n",
    "    border_turtle.color(\"red\")\n",
    "    border_turtle.begin_fill()\n",
    "    for _ in range(2):\n",
    "        border_turtle.forward(width)\n",
    "        border_turtle.right(90)\n",
    "        border_turtle.forward(height)\n",
    "        border_turtle.right(90)\n",
    "    border_turtle.end_fill()\n",
    "\n",
    "    # Criar um turtle para desenhar a mensagem\n",
    "    message_turtle = turtle.Turtle()\n",
    "    message_turtle.hideturtle()\n",
    "    message_turtle.penup()\n",
    "    message_turtle.goto(0, 0)\n",
    "    message_turtle.color(\"white\")  # Cor do texto para contrastar com o fundo vermelho\n",
    "    message_turtle.write(\n",
    "        \"SAIA DO SEU GITHUB E DO SEU EMAIL,\\nISSO NÃO É UM COMPUTADOR PESSOAL\",\n",
    "        align=\"center\",\n",
    "        font=(\"Arial\", 16, \"bold\")\n",
    "    )\n",
    "\n",
    "    # Criar um turtle para piscar a tela\n",
    "    flash_turtle = turtle.Turtle()\n",
    "    flash_turtle.hideturtle()\n",
    "    flash_turtle.penup()\n",
    "    flash_turtle.goto(0, -height // 2 + 50)  # Ajuste a posição do texto de alerta\n",
    "    flash_turtle.color(\"red\")\n",
    "    flash_turtle.write(\n",
    "        \"ALERTA!\",\n",
    "        align=\"center\",\n",
    "        font=(\"Arial\", 24, \"bold\")\n",
    "    )\n",
    "    \n",
    "    # Fazer o texto piscar\n",
    "    for _ in range(10):  # Piscar 10 vezes\n",
    "        flash_turtle.hideturtle()\n",
    "        time.sleep(0.5)\n",
    "        flash_turtle.showturtle()\n",
    "        time.sleep(0.5)\n",
    "    \n",
    "    # Manter a janela aberta até que o usuário a feche\n",
    "    turtle.done()\n",
    "\n",
    "# Chamar a função para exibir a mensagem\n",
    "show_message()"
   ]
  }
 ],
 "metadata": {
  "language_info": {
   "name": "python"
  }
 },
 "nbformat": 4,
 "nbformat_minor": 2
}
