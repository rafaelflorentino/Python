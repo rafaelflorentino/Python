{
 "cells": [
  {
   "cell_type": "code",
   "execution_count": 1,
   "metadata": {},
   "outputs": [
    {
     "name": "stdout",
     "output_type": "stream",
     "text": [
      "Woof!\n",
      "Nome: Maria, Idade: 25\n",
      "Área do círculo: 78.5\n"
     ]
    }
   ],
   "source": [
    "# 1. Definindo uma Classe\n",
    "class Pessoa:\n",
    "    pass  # 'pass' é usado para indicar que a classe está vazia, mas você pode adicionar membros posteriormente\n",
    "\n",
    "\n",
    "# 2. Método __init__\n",
    "class Carro:\n",
    "    def __init__(self, modelo, ano):\n",
    "        self.modelo = modelo\n",
    "        self.ano = ano\n",
    "\n",
    "\n",
    "# 3. Métodos em uma Classe\n",
    "class Cachorro:\n",
    "    def latir(self):\n",
    "        return \"Woof!\"\n",
    "\n",
    "\n",
    "# 4. Atributos de Instância\n",
    "class Aluno:\n",
    "    def __init__(self, nome, idade):\n",
    "        self.nome = nome\n",
    "        self.idade = idade\n",
    "\n",
    "\n",
    "# 5. Utilizando a Referência 'self'\n",
    "class Circulo:\n",
    "    pi = 3.14  # Atributo de Classe\n",
    "\n",
    "    def __init__(self, raio):\n",
    "        self.raio = raio  # Atributo de Instância\n",
    "\n",
    "    def calcular_area(self):\n",
    "        return self.pi * (self.raio ** 2)\n",
    "\n",
    "\n",
    "# Exemplos de Uso\n",
    "if __name__ == \"__main__\":\n",
    "    # 1. Definindo uma Classe\n",
    "    pessoa = Pessoa()\n",
    "\n",
    "    # 2. Método __init__\n",
    "    carro = Carro(modelo=\"Civic\", ano=2022)\n",
    "\n",
    "    # 3. Métodos em uma Classe\n",
    "    cachorro = Cachorro()\n",
    "    print(cachorro.latir())\n",
    "\n",
    "    # 4. Atributos de Instância\n",
    "    aluno = Aluno(nome=\"Maria\", idade=25)\n",
    "    print(f\"Nome: {aluno.nome}, Idade: {aluno.idade}\")\n",
    "\n",
    "    # 5. Utilizando a Referência 'self'\n",
    "    circulo = Circulo(raio=5)\n",
    "    area = circulo.calcular_area()\n",
    "    print(f\"Área do círculo: {area}\")"
   ]
  },
  {
   "cell_type": "code",
   "execution_count": 2,
   "metadata": {},
   "outputs": [],
   "source": [
    "class Imovel:\n",
    "    def __init__(self,preco):\n",
    "        self.preco = preco\n",
    "        \n",
    "    def alugar(self):\n",
    "        return 'aluguei!'"
   ]
  },
  {
   "cell_type": "code",
   "execution_count": 3,
   "metadata": {},
   "outputs": [
    {
     "data": {
      "text/plain": [
       "345.78"
      ]
     },
     "execution_count": 3,
     "metadata": {},
     "output_type": "execute_result"
    }
   ],
   "source": [
    "casa = Imovel(preco=345.78)\n",
    "casa.preco"
   ]
  },
  {
   "cell_type": "code",
   "execution_count": 4,
   "metadata": {},
   "outputs": [
    {
     "name": "stdout",
     "output_type": "stream",
     "text": [
      "aluguei!\n"
     ]
    }
   ],
   "source": [
    "print(casa.alugar())"
   ]
  },
  {
   "cell_type": "code",
   "execution_count": 5,
   "metadata": {},
   "outputs": [
    {
     "data": {
      "text/plain": [
       "list"
      ]
     },
     "execution_count": 5,
     "metadata": {},
     "output_type": "execute_result"
    }
   ],
   "source": [
    "# Colchetes para Lista\n",
    "\n",
    "tipos_imoveis = ['residencial', 'comercial', 'fazenda'] \n",
    "type(tipos_imoveis)"
   ]
  },
  {
   "cell_type": "code",
   "execution_count": 6,
   "metadata": {},
   "outputs": [
    {
     "data": {
      "text/plain": [
       "tuple"
      ]
     },
     "execution_count": 6,
     "metadata": {},
     "output_type": "execute_result"
    }
   ],
   "source": [
    "# Parenteses para Tupla\n",
    "\n",
    "tipos_imoveis = ('residencial', 'comercial', 'fazenda') \n",
    "\n",
    "type(tipos_imoveis)"
   ]
  },
  {
   "cell_type": "code",
   "execution_count": 7,
   "metadata": {},
   "outputs": [
    {
     "data": {
      "text/plain": [
       "set"
      ]
     },
     "execution_count": 7,
     "metadata": {},
     "output_type": "execute_result"
    }
   ],
   "source": [
    "# Caves para conjuntos SET\n",
    "tipos_imoveis = {'residencial', 'comercial', 'fazenda'} \n",
    "tipos_imoveis\n",
    "type(tipos_imoveis)"
   ]
  },
  {
   "cell_type": "code",
   "execution_count": 8,
   "metadata": {},
   "outputs": [
    {
     "name": "stdout",
     "output_type": "stream",
     "text": [
      "[1958, 1962, 1970, 1994, 2002]\n"
     ]
    },
    {
     "data": {
      "text/plain": [
       "list"
      ]
     },
     "execution_count": 8,
     "metadata": {},
     "output_type": "execute_result"
    }
   ],
   "source": [
    "# Lista de vitorias\n",
    "vitorias_copas = [1958, 1962, 1970, 1994, 2002]\n",
    "print(vitorias_copas)\n",
    "type(vitorias_copas)"
   ]
  },
  {
   "cell_type": "code",
   "execution_count": 9,
   "metadata": {},
   "outputs": [
    {
     "name": "stdout",
     "output_type": "stream",
     "text": [
      "('Big Mac', 'Mac Lanche feliz', 'Bata Grande', 'Bata Pequena')\n"
     ]
    },
    {
     "data": {
      "text/plain": [
       "tuple"
      ]
     },
     "execution_count": 9,
     "metadata": {},
     "output_type": "execute_result"
    }
   ],
   "source": [
    "# Tupla de fastFood\n",
    "comidas = (\"Big Mac\", \"Mac Lanche feliz\",\"Bata Grande\",\"Bata Pequena\")\n",
    "print(comidas)\n",
    "type(comidas)"
   ]
  },
  {
   "cell_type": "code",
   "execution_count": 10,
   "metadata": {},
   "outputs": [
    {
     "name": "stdout",
     "output_type": "stream",
     "text": [
      "{'Feijão', 'Arroz', 'Carne', 'Suco'}\n"
     ]
    },
    {
     "data": {
      "text/plain": [
       "set"
      ]
     },
     "execution_count": 10,
     "metadata": {},
     "output_type": "execute_result"
    }
   ],
   "source": [
    "# Conjunto SET lista de compras\n",
    "compras = {\"Arroz\", \"Feijão\",\"Carne\",\"Suco\"}\n",
    "print(compras)\n",
    "type(compras)"
   ]
  },
  {
   "cell_type": "code",
   "execution_count": 11,
   "metadata": {},
   "outputs": [
    {
     "name": "stdout",
     "output_type": "stream",
     "text": [
      "3\n",
      "taguatinga: 3\n",
      "brazlândia: 5\n",
      "ceilandia: 2\n",
      "candangolânida: 4\n"
     ]
    }
   ],
   "source": [
    "# Dicionário\n",
    "\n",
    "apartamentos = {\n",
    "    \"taguatinga\" : 3,\n",
    "    \"brazlândia\" : 5,\n",
    "    \"ceilandia\" : 2\n",
    "}\n",
    "\n",
    "print(apartamentos[\"taguatinga\"])\n",
    "\n",
    "# Adicionar novo apartamento\n",
    "apartamentos[\"candangolânida\"] = 4\n",
    "\n",
    "for apartamento, quantidade in apartamentos.items():\n",
    "    print(f\"{apartamento}: {quantidade}\")\n"
   ]
  },
  {
   "cell_type": "code",
   "execution_count": 12,
   "metadata": {},
   "outputs": [
    {
     "name": "stdout",
     "output_type": "stream",
     "text": [
      "Paradigma: 15\n",
      "Objeto: 10\n",
      "Classe: 15\n",
      "Método: 15\n",
      "Herança: 10\n",
      "Polimorfismo: 15\n",
      "Encapsulamento: 22\n"
     ]
    }
   ],
   "source": [
    "# Dicionário\n",
    "aula_quinta = {\n",
    "    \"Paradigma\" : 15,\n",
    "    \"Objeto\" : 10,\n",
    "    \"Classe\" : 15,\n",
    "    \"Método\" : 15,\n",
    "    \"Herança\" : 10,\n",
    "    \"Polimorfismo\" : 15,    \n",
    "    \"Encapsulamento\" : 22\n",
    "}\n",
    "\n",
    "for materia, minutos in aula_quinta.items():\n",
    "    print(f\"{materia}: {minutos}\")"
   ]
  }
 ],
 "metadata": {
  "kernelspec": {
   "display_name": ".venv",
   "language": "python",
   "name": "python3"
  },
  "language_info": {
   "codemirror_mode": {
    "name": "ipython",
    "version": 3
   },
   "file_extension": ".py",
   "mimetype": "text/x-python",
   "name": "python",
   "nbconvert_exporter": "python",
   "pygments_lexer": "ipython3",
   "version": "3.12.7"
  }
 },
 "nbformat": 4,
 "nbformat_minor": 2
}
