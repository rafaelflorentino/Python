{
 "cells": [
  {
   "cell_type": "code",
   "execution_count": 1,
   "metadata": {},
   "outputs": [
    {
     "name": "stdout",
     "output_type": "stream",
     "text": [
      "['False', 'None', 'True', 'and', 'as', 'assert', 'async', 'await', 'break', 'class', 'continue', 'def', 'del', 'elif', 'else', 'except', 'finally', 'for', 'from', 'global', 'if', 'import', 'in', 'is', 'lambda', 'nonlocal', 'not', 'or', 'pass', 'raise', 'return', 'try', 'while', 'with', 'yield']\n"
     ]
    }
   ],
   "source": [
    "import keyword\n",
    "\n",
    "# Palavras reservadas do Python\n",
    "print(keyword.kwlist)"
   ]
  },
  {
   "cell_type": "code",
   "execution_count": 2,
   "metadata": {},
   "outputs": [
    {
     "name": "stdout",
     "output_type": "stream",
     "text": [
      "<class 'int'>\n",
      "<class 'complex'>\n"
     ]
    }
   ],
   "source": [
    "# Tipo inteiro\n",
    "x = 10\n",
    "print(type(x))\n",
    "\n",
    "# Tipo complexo\n",
    "y = 3j\n",
    "print(type(y))"
   ]
  },
  {
   "cell_type": "markdown",
   "metadata": {},
   "source": [
    "# Calcular o IMC"
   ]
  },
  {
   "cell_type": "code",
   "execution_count": 4,
   "metadata": {},
   "outputs": [
    {
     "name": "stdout",
     "output_type": "stream",
     "text": [
      "Seu imc: 20.00, Está com peso normal\n"
     ]
    }
   ],
   "source": [
    "peso = input(\"Digite o seu peso: \").replace(',', '.')\n",
    "peso = float(peso)\n",
    "\n",
    "altura = input(\"Digite a sua altura: \").replace(',', '.')\n",
    "altura = float(altura)\n",
    "\n",
    "# Calculando o IMC\n",
    "imc = peso / (altura ** 2)\n",
    "\n",
    "# Exibindo a classificação do IMC\n",
    "if imc < 17:\n",
    "    print(f\"Seu imc: {imc:.2f}, Está com anorexia\")\n",
    "elif 17 <= imc < 18.49:\n",
    "    print(f\"Seu imc: {imc:.2f}, Está com baixo peso\")\n",
    "elif 18.5 <= imc < 24.99:\n",
    "    print(f\"Seu imc: {imc:.2f}, Está com peso normal\")\n",
    "elif 25 <= imc < 29.99:\n",
    "    print(f\"Seu imc: {imc:.2f}, Está com sobrepeso\")\n",
    "elif 30 <= imc < 34.99:\n",
    "    print(f\"Seu imc: {imc:.2f}, Está com obesidade grau I\")\n",
    "elif 35 <= imc < 39.99:\n",
    "    print(f\"Seu imc: {imc:.2f}, Está com obesidade grau II\")\n",
    "else:\n",
    "    print(f\"Seu imc: {imc:.2f}, Está com obesidade grau III\")"
   ]
  },
  {
   "cell_type": "code",
   "execution_count": 5,
   "metadata": {},
   "outputs": [
    {
     "name": "stdout",
     "output_type": "stream",
     "text": [
      "Seu imc é: 23.84\n",
      "Classificação: com peso normal\n"
     ]
    }
   ],
   "source": [
    "# Função lambda, programação funcional\n",
    "calcular_imc = lambda peso2, altura2: peso2 / pow(altura2,2)\n",
    "\n",
    "peso2 = float(input(\"Digite o seu peso: \").replace(',', '.'))\n",
    "altura2 = float(input(\"Digite a sua altura: \").replace(',', '.'))\n",
    "\n",
    "imc2 = calcular_imc(peso2, altura2)\n",
    "\n",
    "print(f\"Seu imc é: {imc2:.2f}\")\n",
    "\n",
    "classificacao = (\"abaixo do peso\" if imc < 18.5 else\n",
    "                \"com peso normal\" if imc < 24.9 else\n",
    "                \"com sobrepeso\" if imc < 29.9 else\n",
    "                \"com obesidade\")\n",
    "\n",
    "print(f\"Classificação: {classificacao}\")"
   ]
  },
  {
   "cell_type": "markdown",
   "metadata": {},
   "source": [
    "# Sortear número"
   ]
  },
  {
   "cell_type": "code",
   "execution_count": 1,
   "metadata": {},
   "outputs": [
    {
     "name": "stdout",
     "output_type": "stream",
     "text": [
      "18\n",
      "22\n",
      "10\n",
      "18\n",
      "8\n",
      "20\n",
      "encerrando o sorteio\n"
     ]
    }
   ],
   "source": [
    "import random\n",
    "\n",
    "# looping - iteração - repetição - laço\n",
    "while True:\n",
    "    # Padrão snack_case (PEP-8)\n",
    "    sorteio_turma = random.randint(1,25)\n",
    "    print(sorteio_turma)\n",
    "    resposta = input(\"Deseja sortear outro número? (s/n)\").strip().lower()\n",
    "\n",
    "    if(resposta != \"s\"):\n",
    "        print(\"encerrando o sorteio\")\n",
    "        break"
   ]
  }
 ],
 "metadata": {
  "kernelspec": {
   "display_name": ".venv",
   "language": "python",
   "name": "python3"
  },
  "language_info": {
   "codemirror_mode": {
    "name": "ipython",
    "version": 3
   },
   "file_extension": ".py",
   "mimetype": "text/x-python",
   "name": "python",
   "nbconvert_exporter": "python",
   "pygments_lexer": "ipython3",
   "version": "3.12.7"
  }
 },
 "nbformat": 4,
 "nbformat_minor": 2
}
