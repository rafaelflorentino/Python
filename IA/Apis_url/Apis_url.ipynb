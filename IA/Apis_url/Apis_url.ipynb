{
 "cells": [
  {
   "cell_type": "markdown",
   "metadata": {},
   "source": [
    "# API Pokemon\n",
    "- URL: \"https://pokeapi.co/api/v2/pokemon/1\"\n",
    "- Documentação: https://pokeapi.co/docs/v2#pokemon"
   ]
  },
  {
   "cell_type": "code",
   "execution_count": 1,
   "metadata": {},
   "outputs": [
    {
     "name": "stdout",
     "output_type": "stream",
     "text": [
      "Nome: pikachu\n",
      "ID: 25\n",
      "Altura: 4\n",
      "Peso: 60\n",
      "Tipos:\n",
      "- electric\n"
     ]
    }
   ],
   "source": [
    "# Importando bibliotecas\n",
    "import requests\n",
    "\n",
    "# Definir a variavel URL\n",
    "url = \"https://pokeapi.co/api/v2/pokemon/pikachu\"\n",
    "\n",
    "# Realizando a requisição e guardando a resposta\n",
    "response = requests.get(url)\n",
    "\n",
    "if response.status_code == 200:\n",
    "  data = response.json()\n",
    "\n",
    "  print(f\"Nome: {data['name']}\")\n",
    "  print(f\"ID: {data['id']}\")\n",
    "  print(f\"Altura: {data['height']}\")\n",
    "  print(f\"Peso: {data['weight']}\")\n",
    "  print(\"Tipos:\")\n",
    "  for tipo in data['types']:\n",
    "    print(f\"- {tipo['type']['name']}\")"
   ]
  },
  {
   "cell_type": "markdown",
   "metadata": {},
   "source": [
    "# API The Dog ( API privada )\n",
    "- Chave: live_hLCEa4zITigYgj4bps2yHVuSziP48eCaSfb8r3nYKoOozEULGyWqOTJw4w1Uc5NW"
   ]
  },
  {
   "cell_type": "code",
   "execution_count": 2,
   "metadata": {},
   "outputs": [
    {
     "name": "stdout",
     "output_type": "stream",
     "text": [
      "[{'id': 'eNM4W5f1S', 'url': 'https://cdn2.thedogapi.com/images/eNM4W5f1S.jpg', 'width': 1080, 'height': 1080}]\n"
     ]
    }
   ],
   "source": [
    "#importando bibliotecas\n",
    "import requests\n",
    "\n",
    "#definir a chave da API\n",
    "api_key = \"live_hLCEa4zITigYgj4bps2yHVuSziP48eCaSfb8r3nYKoOozEULGyWqOTJw4w1Uc5NW\"\n",
    "\n",
    "# Definir a URL para cachorros\n",
    "url = f\"https://api.thedogapi.com/v1/images/search?apikey={api_key}\" # Cachorros\n",
    "\n",
    "# Definir a URL para gatos\n",
    "# url = f\"https://api.thecatapi.com/v1/images/cii?apikey={api_key}\" # Expecificos pelo id: cii\n",
    "# url = f\"https://api.thecatapi.com/v1/images/search?apikey={api_key}\" # Aleatórios\n",
    "\n",
    "response = requests.get(url)\n",
    "\n",
    "if response.status_code == 200:\n",
    "  data = response.json()\n",
    "  print(data)"
   ]
  },
  {
   "cell_type": "markdown",
   "metadata": {},
   "source": [
    "# API NASA\n",
    "- chave: 93XcsvH8dQRboSblD1V7Qcs1uuyMciUcSTVhtcM5"
   ]
  },
  {
   "cell_type": "code",
   "execution_count": 3,
   "metadata": {},
   "outputs": [
    {
     "name": "stdout",
     "output_type": "stream",
     "text": [
      "{'date': '2024-11-10', 'explanation': \"The largest canyon in the Solar System cuts a wide swath across the face of Mars.  Named Valles Marineris, the grand valley extends over 3,000 kilometers long, spans as much as 600 kilometers across, and delves as much as 8 kilometers deep.  By comparison, the Earth's Grand Canyon in Arizona, USA is 800 kilometers long, 30 kilometers across, and 1.8 kilometers deep.  The origin of the Valles Marineris remains unknown, although a leading hypothesis holds that it started as a crack billions of years ago as the planet cooled.  Several geologic processes have been identified in the canyon.  The featured mosaic was  created from over 100 images of Mars taken by Viking Orbiters in the 1970s.\", 'hdurl': 'https://apod.nasa.gov/apod/image/2411/marsglobe_viking_1552.jpg', 'media_type': 'image', 'service_version': 'v1', 'title': 'Valles Marineris: The Grand Canyon of Mars', 'url': 'https://apod.nasa.gov/apod/image/2411/marsglobe_viking_960.jpg'}\n"
     ]
    }
   ],
   "source": [
    "import requests\n",
    "\n",
    "api_key = \"93XcsvH8dQRboSblD1V7Qcs1uuyMciUcSTVhtcM5\"\n",
    "\n",
    "endpoint = \"/planetary/apod\" # Astronomy Picture Of Day -> Fotografia astronomica do dia\n",
    "\n",
    "url = f\"https://api.nasa.gov{endpoint}?api_key={api_key}\"\n",
    "\n",
    "response = requests.get(url)\n",
    "\n",
    "if response.status_code == 200:\n",
    "  data = response.json()\n",
    "\n",
    "print(data)"
   ]
  },
  {
   "cell_type": "markdown",
   "metadata": {},
   "source": [
    "# API Star Wars"
   ]
  },
  {
   "cell_type": "code",
   "execution_count": 4,
   "metadata": {},
   "outputs": [
    {
     "name": "stdout",
     "output_type": "stream",
     "text": [
      "\n",
      "=#=#=#=#=#=#=#=#=#=#=#=#=#=#=#=#=#=#=#=#=#=#=#=#=#=#=#=#=#=#\n",
      "Nome: Luke Skywalker\n",
      "Gênero: male\n",
      "Altura: 172\n",
      "Peso: 77\n",
      "Participação em: \n",
      "- A New Hope\n",
      "- The Empire Strikes Back\n",
      "- Return of the Jedi\n",
      "- Revenge of the Sith\n",
      "\n",
      "=#=#=#=#=#=#=#=#=#=#=#=#=#=#=#=#=#=#=#=#=#=#=#=#=#=#=#=#=#=#\n",
      "Nome: C-3PO\n",
      "Gênero: n/a\n",
      "Altura: 167\n",
      "Peso: 75\n",
      "Participação em: \n",
      "- A New Hope\n",
      "- The Empire Strikes Back\n",
      "- Return of the Jedi\n",
      "- The Phantom Menace\n",
      "- Attack of the Clones\n",
      "- Revenge of the Sith\n",
      "\n",
      "=#=#=#=#=#=#=#=#=#=#=#=#=#=#=#=#=#=#=#=#=#=#=#=#=#=#=#=#=#=#\n",
      "Nome: R2-D2\n",
      "Gênero: n/a\n",
      "Altura: 96\n",
      "Peso: 32\n",
      "Participação em: \n",
      "- A New Hope\n",
      "- The Empire Strikes Back\n",
      "- Return of the Jedi\n",
      "- The Phantom Menace\n",
      "- Attack of the Clones\n",
      "- Revenge of the Sith\n",
      "\n",
      "=#=#=#=#=#=#=#=#=#=#=#=#=#=#=#=#=#=#=#=#=#=#=#=#=#=#=#=#=#=#\n",
      "Nome: Darth Vader\n",
      "Gênero: male\n",
      "Altura: 202\n",
      "Peso: 136\n",
      "Participação em: \n",
      "- A New Hope\n",
      "- The Empire Strikes Back\n",
      "- Return of the Jedi\n",
      "- Revenge of the Sith\n",
      "\n",
      "=#=#=#=#=#=#=#=#=#=#=#=#=#=#=#=#=#=#=#=#=#=#=#=#=#=#=#=#=#=#\n",
      "Nome: Leia Organa\n",
      "Gênero: female\n",
      "Altura: 150\n",
      "Peso: 49\n",
      "Participação em: \n",
      "- A New Hope\n",
      "- The Empire Strikes Back\n",
      "- Return of the Jedi\n",
      "- Revenge of the Sith\n",
      "\n",
      "=#=#=#=#=#=#=#=#=#=#=#=#=#=#=#=#=#=#=#=#=#=#=#=#=#=#=#=#=#=#\n",
      "Nome: Owen Lars\n",
      "Gênero: male\n",
      "Altura: 178\n",
      "Peso: 120\n",
      "Participação em: \n",
      "- A New Hope\n",
      "- Attack of the Clones\n",
      "- Revenge of the Sith\n",
      "\n",
      "=#=#=#=#=#=#=#=#=#=#=#=#=#=#=#=#=#=#=#=#=#=#=#=#=#=#=#=#=#=#\n",
      "Nome: Beru Whitesun lars\n",
      "Gênero: female\n",
      "Altura: 165\n",
      "Peso: 75\n",
      "Participação em: \n",
      "- A New Hope\n",
      "- Attack of the Clones\n",
      "- Revenge of the Sith\n",
      "\n",
      "=#=#=#=#=#=#=#=#=#=#=#=#=#=#=#=#=#=#=#=#=#=#=#=#=#=#=#=#=#=#\n",
      "Nome: R5-D4\n",
      "Gênero: n/a\n",
      "Altura: 97\n",
      "Peso: 32\n",
      "Participação em: \n",
      "- A New Hope\n",
      "\n",
      "=#=#=#=#=#=#=#=#=#=#=#=#=#=#=#=#=#=#=#=#=#=#=#=#=#=#=#=#=#=#\n",
      "Nome: Biggs Darklighter\n",
      "Gênero: male\n",
      "Altura: 183\n",
      "Peso: 84\n",
      "Participação em: \n",
      "- A New Hope\n",
      "\n",
      "=#=#=#=#=#=#=#=#=#=#=#=#=#=#=#=#=#=#=#=#=#=#=#=#=#=#=#=#=#=#\n",
      "Nome: Obi-Wan Kenobi\n",
      "Gênero: male\n",
      "Altura: 182\n",
      "Peso: 77\n",
      "Participação em: \n",
      "- A New Hope\n",
      "- The Empire Strikes Back\n",
      "- Return of the Jedi\n",
      "- The Phantom Menace\n",
      "- Attack of the Clones\n",
      "- Revenge of the Sith\n"
     ]
    }
   ],
   "source": [
    "import requests\n",
    "\n",
    "endpoints = \"/people\" # Pessoas\n",
    "\n",
    "url = f\"https://swapi.dev/api{endpoints}\"\n",
    "\n",
    "response = requests.get(url)\n",
    "\n",
    "if response.status_code == 200:\n",
    "  data = response.json()\n",
    "\n",
    "for pessoa in data[\"results\"]:\n",
    "    print(\"\\n\"+\"=#\"* 30)\n",
    "    print(f\"Nome: {pessoa['name']}\")\n",
    "    print(f\"Gênero: {pessoa['gender']}\")\n",
    "    print(f\"Altura: {pessoa['height']}\")\n",
    "    print(f\"Peso: {pessoa['mass']}\")\n",
    "    print(\"Participação em: \")\n",
    "    for filme_url in pessoa['films']:\n",
    "      response_filme = requests.get(filme_url)\n",
    "      filme = response_filme.json()\n",
    "      print(f\"- {filme['title']}\")\n",
    "\n",
    "#   print(pessoa['vehicles'])"
   ]
  },
  {
   "cell_type": "markdown",
   "metadata": {},
   "source": [
    "# API TRIVIA"
   ]
  },
  {
   "cell_type": "code",
   "execution_count": 5,
   "metadata": {},
   "outputs": [
    {
     "name": "stdout",
     "output_type": "stream",
     "text": [
      "Pergunta: The British organisation CAMRA stands for The Campaign for Real Ale.\n",
      "Pergunta: The Sun rises from the North.\n",
      "Pergunta: Stagecoach owned &quot;South West Trains&quot; before losing the rights to FirstGroup and MTR in March of 2017.\n",
      "Pergunta: Video streaming website YouTube was purchased in it&#039;s entirety by Facebook for US$1.65 billion in stock.\n",
      "Pergunta: Ping-Pong originated in England\n",
      "Pergunta: French is an official language in Canada.\n",
      "Pergunta: Jingle Bells was originally meant for Thanksgiving\n",
      "Pergunta: Scotland voted to become an independent country during the referendum from September 2014.\n",
      "Pergunta: You are allowed to sell your soul on eBay.\n",
      "Pergunta: Slovakia is a member of European Union-\n"
     ]
    }
   ],
   "source": [
    "import requests\n",
    "\n",
    "param = \"amount=10&category=9&difficult=hard&type=boolean\"\n",
    "\n",
    "url = f\"https://opentdb.com/api.php?{param}\"\n",
    "\n",
    "response = requests.get(url).json()\n",
    "\n",
    "for pergunta in response['results']:\n",
    "  print(f\"Pergunta: {pergunta['question']}\")"
   ]
  },
  {
   "cell_type": "markdown",
   "metadata": {},
   "source": [
    "# API Clima\n",
    "- Chave: da7d7856826a4e9daae192630241109"
   ]
  },
  {
   "cell_type": "code",
   "execution_count": 6,
   "metadata": {},
   "outputs": [
    {
     "name": "stdout",
     "output_type": "stream",
     "text": [
      "Data e hora local: 2024-11-10 19:51\n",
      "País: Brazil\n",
      "Temperatura em Celsius: 20.2 C\n",
      "Velocidade do Vento: 4.0 Km/h\n"
     ]
    }
   ],
   "source": [
    "import requests\n",
    "\n",
    "api_key = \"da7d7856826a4e9daae192630241109\"\n",
    "\n",
    "cidade = \"Brasilia\"\n",
    "\n",
    "url = f\"http://api.weatherapi.com/v1/current.json?key={api_key}&q={cidade}\"\n",
    "\n",
    "response = requests.get(url)\n",
    "\n",
    "data = response.json()\n",
    "\n",
    "print(f\"Data e hora local: {data['location']['localtime']}\")\n",
    "print(f\"País: {data['location']['country']}\")\n",
    "print(f\"Temperatura em Celsius: {data['current']['temp_c']} C\")\n",
    "print(f\"Velocidade do Vento: {data['current']['wind_kph']} Km/h\")"
   ]
  }
 ],
 "metadata": {
  "kernelspec": {
   "display_name": ".venv",
   "language": "python",
   "name": "python3"
  },
  "language_info": {
   "codemirror_mode": {
    "name": "ipython",
    "version": 3
   },
   "file_extension": ".py",
   "mimetype": "text/x-python",
   "name": "python",
   "nbconvert_exporter": "python",
   "pygments_lexer": "ipython3",
   "version": "3.12.7"
  }
 },
 "nbformat": 4,
 "nbformat_minor": 2
}
